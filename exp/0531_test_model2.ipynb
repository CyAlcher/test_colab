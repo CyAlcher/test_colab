{
 "cells": [
  {
   "cell_type": "code",
   "execution_count": 19,
   "metadata": {},
   "outputs": [
    {
     "data": {
      "text/plain": [
       "\"\\n# 修改路径：路径都是绝对路径 3个地方\\n1. 创建provider修改labelme_path、saved_path\\n2. 修改 3d_printer.yaml 中的路径\\n3. 修改predict路径；\\n4. 命令行也可以执行，需要改data yaml路径；\\n!yolo task=detect mode=train model=yolov8.yaml data=./datasets/mydata.yaml epochs=200 batch=16 device='cpu'\\n\""
      ]
     },
     "execution_count": 19,
     "metadata": {},
     "output_type": "execute_result"
    }
   ],
   "source": [
    "\"\"\"\n",
    "# 修改路径：路径都是绝对路径 3个地方\n",
    "1. 创建provider修改labelme_path、saved_path\n",
    "2. 修改 3d_printer.yaml 中的路径\n",
    "3. 修改predict路径；\n",
    "4. 命令行也可以执行，需要改data yaml路径；\n",
    "!yolo task=detect mode=train model=yolov8.yaml data=./datasets/mydata.yaml epochs=200 batch=16 device='cpu'\n",
    "\"\"\""
   ]
  },
  {
   "cell_type": "code",
   "execution_count": 20,
   "metadata": {},
   "outputs": [],
   "source": [
    "import os\n",
    "import xml.dom\n",
    "import numpy as np\n",
    "import codecs\n",
    "import json\n",
    "import glob\n",
    "import cv2\n",
    "import shutil\n",
    "import xml.etree.ElementTree as ET\n",
    "import os\n",
    "import os\n",
    "import random\n",
    "import shutil\n",
    "import sys\n",
    "from ultralytics import YOLO\n",
    "sys.path.append('./../')\n",
    "from utils.data_provider import DataProvider\n"
   ]
  },
  {
   "cell_type": "code",
   "execution_count": 21,
   "metadata": {},
   "outputs": [
    {
     "name": "stdout",
     "output_type": "stream",
     "text": [
      "写入 xmlName 名称：{'version': '2.3.5', 'flags': {}, 'shapes': [{'label': 'normal', 'points': [[256.0, 197.0], [256.0, 195.0], [253.0, 192.0], [253.0, 190.0], [249.0, 187.0], [253.0, 183.0], [254.0, 171.0], [250.0, 168.0], [246.0, 168.0], [245.0, 167.0], [245.0, 163.0], [244.0, 162.0], [239.0, 164.0], [235.0, 164.0], [234.0, 163.0], [220.0, 163.0], [219.0, 164.0], [214.0, 164.0], [213.0, 165.0], [213.0, 167.0], [210.0, 169.0], [209.0, 168.0], [163.0, 168.0], [161.0, 166.0], [160.0, 162.0], [158.0, 161.0], [158.0, 162.0], [155.0, 165.0], [150.0, 167.0], [146.0, 167.0], [145.0, 168.0], [134.0, 168.0], [132.0, 167.0], [131.0, 168.0], [94.0, 169.0], [91.0, 171.0], [92.0, 173.0], [94.0, 173.0], [97.0, 175.0], [102.0, 175.0], [105.0, 177.0], [107.0, 176.0], [112.0, 176.0], [114.0, 178.0], [111.0, 180.0], [105.0, 180.0], [104.0, 181.0], [93.0, 181.0], [92.0, 182.0], [90.0, 182.0], [89.0, 181.0], [71.0, 181.0], [66.0, 183.0], [65.0, 184.0], [65.0, 186.0], [62.0, 188.0], [47.0, 188.0], [46.0, 187.0], [35.0, 187.0], [34.0, 188.0], [35.0, 190.0], [37.0, 190.0], [38.0, 191.0], [45.0, 191.0], [46.0, 192.0], [54.0, 192.0], [55.0, 193.0], [63.0, 193.0], [64.0, 194.0], [68.0, 194.0], [69.0, 193.0], [77.0, 193.0], [80.0, 195.0], [81.0, 198.0], [96.0, 198.0], [102.0, 194.0], [110.0, 193.0], [116.0, 189.0], [119.0, 189.0], [120.0, 188.0], [183.0, 188.0], [185.0, 190.0], [185.0, 194.0], [190.0, 196.0], [193.0, 196.0], [196.0, 198.0], [201.0, 198.0], [202.0, 197.0], [211.0, 197.0], [212.0, 196.0], [217.0, 195.0], [223.0, 188.0], [229.0, 194.0], [234.0, 197.0], [237.0, 197.0], [241.0, 200.0], [245.0, 200.0], [249.0, 197.0], [251.0, 197.0], [252.0, 198.0], [255.0, 198.0]], 'group_id': None, 'description': '', 'difficult': False, 'shape_type': 'polygon', 'flags': {}, 'attributes': {}}], 'imagePath': 'frame_0095.jpg', 'imageData': None, 'imageHeight': 512, 'imageWidth': 512},\n",
      " /Users/max/Documents/06_john_doc/3d_p/3DAnomalyDetect/data/Annotations/frame_0095.xml\n",
      "写入 xmlName 名称：{'version': '2.3.5', 'flags': {}, 'shapes': [{'label': 'spaghetti', 'points': [[82.0, 0.0], [82.0, 4.0], [91.0, 24.0], [114.0, 86.0], [126.0, 97.0], [116.0, 107.0], [116.0, 112.0], [124.0, 113.0], [128.0, 109.0], [130.0, 109.0], [143.0, 128.0], [162.0, 151.0], [165.0, 157.0], [181.0, 166.0], [198.0, 188.0], [210.0, 197.0], [214.0, 196.0], [219.0, 197.0], [222.0, 200.0], [222.0, 207.0], [225.0, 208.0], [226.0, 207.0], [225.0, 198.0], [229.0, 194.0], [236.0, 193.0], [235.0, 191.0], [229.0, 192.0], [225.0, 190.0], [227.0, 188.0], [226.0, 184.0], [223.0, 186.0], [219.0, 185.0], [221.0, 180.0], [223.0, 179.0], [225.0, 180.0], [228.0, 178.0], [209.0, 171.0], [204.0, 165.0], [200.0, 164.0], [183.0, 151.0], [176.0, 144.0], [175.0, 140.0], [172.0, 141.0], [168.0, 138.0], [154.0, 123.0], [142.0, 115.0], [137.0, 107.0], [137.0, 104.0], [144.0, 97.0], [159.0, 90.0], [171.0, 90.0], [191.0, 97.0], [194.0, 100.0], [195.0, 105.0], [208.0, 118.0], [209.0, 121.0], [208.0, 124.0], [201.0, 132.0], [196.0, 133.0], [197.0, 134.0], [201.0, 134.0], [206.0, 129.0], [208.0, 122.0], [211.0, 121.0], [221.0, 130.0], [228.0, 131.0], [240.0, 145.0], [244.0, 146.0], [246.0, 143.0], [253.0, 145.0], [252.0, 142.0], [244.0, 135.0], [241.0, 130.0], [241.0, 126.0], [233.0, 119.0], [226.0, 110.0], [218.0, 108.0], [206.0, 98.0], [199.0, 88.0], [188.0, 77.0], [187.0, 74.0], [174.0, 59.0], [158.0, 37.0], [153.0, 32.0], [143.0, 27.0], [136.0, 20.0], [121.0, 0.0]], 'group_id': None, 'description': '', 'difficult': False, 'shape_type': 'polygon', 'flags': {}, 'attributes': {}}], 'imagePath': 'frame_0195.jpg', 'imageData': None, 'imageHeight': 512, 'imageWidth': 512},\n",
      " /Users/max/Documents/06_john_doc/3d_p/3DAnomalyDetect/data/Annotations/frame_0195.xml\n",
      "写入 xmlName 名称：{'version': '2.3.5', 'flags': {}, 'shapes': [{'label': 'spaghetti', 'points': [[160.0, 65.0], [159.0, 66.0], [159.0, 73.0], [160.0, 74.0], [160.0, 76.0], [166.0, 82.0], [166.0, 83.0], [168.0, 85.0], [168.0, 87.0], [169.0, 88.0], [169.0, 90.0], [171.0, 92.0], [172.0, 92.0], [173.0, 93.0], [173.0, 94.0], [175.0, 96.0], [175.0, 97.0], [177.0, 99.0], [177.0, 100.0], [180.0, 103.0], [181.0, 106.0], [183.0, 108.0], [183.0, 109.0], [184.0, 110.0], [184.0, 111.0], [186.0, 114.0], [186.0, 118.0], [187.0, 119.0], [187.0, 121.0], [189.0, 123.0], [189.0, 130.0], [191.0, 132.0], [192.0, 132.0], [193.0, 133.0], [193.0, 134.0], [194.0, 134.0], [197.0, 137.0], [197.0, 139.0], [198.0, 140.0], [198.0, 145.0], [199.0, 146.0], [199.0, 148.0], [200.0, 149.0], [200.0, 151.0], [201.0, 152.0], [201.0, 154.0], [205.0, 159.0], [205.0, 160.0], [206.0, 161.0], [206.0, 164.0], [207.0, 165.0], [207.0, 166.0], [208.0, 166.0], [211.0, 169.0], [232.0, 169.0], [234.0, 167.0], [235.0, 167.0], [236.0, 166.0], [236.0, 164.0], [234.0, 161.0], [233.0, 161.0], [232.0, 160.0], [230.0, 160.0], [229.0, 159.0], [227.0, 159.0], [223.0, 155.0], [218.0, 155.0], [217.0, 154.0], [211.0, 154.0], [210.0, 153.0], [210.0, 149.0], [211.0, 148.0], [210.0, 147.0], [210.0, 145.0], [209.0, 144.0], [209.0, 141.0], [208.0, 140.0], [208.0, 133.0], [210.0, 130.0], [209.0, 127.0], [210.0, 126.0], [210.0, 124.0], [211.0, 123.0], [211.0, 118.0], [210.0, 117.0], [210.0, 116.0], [208.0, 114.0], [208.0, 113.0], [207.0, 112.0], [205.0, 112.0], [205.0, 113.0], [206.0, 113.0], [207.0, 114.0], [207.0, 116.0], [208.0, 117.0], [208.0, 124.0], [206.0, 126.0], [203.0, 126.0], [201.0, 124.0], [201.0, 121.0], [200.0, 120.0], [200.0, 115.0], [199.0, 114.0], [199.0, 112.0], [185.0, 98.0], [185.0, 97.0], [181.0, 93.0], [181.0, 89.0], [180.0, 88.0], [179.0, 85.0], [177.0, 85.0], [176.0, 84.0], [175.0, 84.0], [173.0, 82.0], [173.0, 81.0], [171.0, 79.0], [171.0, 78.0], [168.0, 75.0], [168.0, 74.0], [167.0, 73.0], [166.0, 70.0], [163.0, 67.0], [163.0, 66.0]], 'group_id': None, 'description': '', 'difficult': False, 'shape_type': 'polygon', 'flags': {}, 'attributes': {}}], 'imagePath': 'frame_0295.jpg', 'imageData': None, 'imageHeight': 512, 'imageWidth': 512},\n",
      " /Users/max/Documents/06_john_doc/3d_p/3DAnomalyDetect/data/Annotations/frame_0295.xml\n",
      "xmlfilepath: /Users/max/Documents/06_john_doc/3d_p/3DAnomalyDetect/data/Annotations/frame_0095.xml\n",
      "xmlfilepath: /Users/max/Documents/06_john_doc/3d_p/3DAnomalyDetect/data/Annotations/frame_0195.xml\n",
      "xmlfilepath: /Users/max/Documents/06_john_doc/3d_p/3DAnomalyDetect/data/Annotations/frame_0295.xml\n",
      "labels: ['normal', 'spaghetti', 'possible-spaghetti']\n"
     ]
    }
   ],
   "source": [
    "# 修改对应的路径，labelme_path是训练接的路径，saved_path是xml保存路径\n",
    "labelme_path = r\"/Users/max/Documents/06_john_doc/3d_p/3DAnomalyDetect/data/frames/spaghetti1/\"  \n",
    "saved_path = r\"/Users/max/Documents/06_john_doc/3d_p/3DAnomalyDetect/data/Annotations\"\n",
    "# data_dir = labelme_path      # 图片和标签路径\n",
    "train_val_test_dir= './datasets'    # 目标文件夹\n",
    "train_ratio = 0.7               # 训练集比例\n",
    "val_ratio = 0.2                 # 验证集比例\n",
    "test_ratio = 0.1                # 测试集比例\n",
    "\n",
    "data_provider = DataProvider(labelme_path=labelme_path,saved_path=saved_path)\n",
    "data_provider.get_img_file()\n",
    "img_xmls = os.listdir(saved_path)\n",
    "for img_xml in img_xmls:\n",
    "    label_name = img_xml.split('.')[0]\n",
    "    data_provider.convert_annotation(image_id=label_name)\n"
   ]
  },
  {
   "cell_type": "code",
   "execution_count": 22,
   "metadata": {},
   "outputs": [
    {
     "name": "stdout",
     "output_type": "stream",
     "text": [
      "数据集分离完成！\n",
      "训练集数量：42\n",
      "验证集数量：12\n",
      "测试集数量：6\n"
     ]
    }
   ],
   "source": [
    "# 调用函数分离数据集\n",
    "data_provider.split_dataset(labelme_path, train_val_test_dir,train_ratio, val_ratio, test_ratio)"
   ]
  },
  {
   "cell_type": "code",
   "execution_count": 23,
   "metadata": {},
   "outputs": [
    {
     "name": "stdout",
     "output_type": "stream",
     "text": [
      "./datasets/train文件移动完成！\n",
      "总共移动了 42 个PNG文件到images文件夹\n",
      "总共移动了 42 个TXT文件到labels文件夹\n",
      "./datasets/val文件移动完成！\n",
      "总共移动了 12 个PNG文件到images文件夹\n",
      "总共移动了 12 个TXT文件到labels文件夹\n",
      "./datasets/test文件移动完成！\n",
      "总共移动了 6 个PNG文件到images文件夹\n",
      "总共移动了 6 个TXT文件到labels文件夹\n"
     ]
    }
   ],
   "source": [
    "data_provider.move_files(os.path.join(train_val_test_dir, 'train'))\n",
    "data_provider.move_files(os.path.join(train_val_test_dir, 'val'))\n",
    "data_provider.move_files(os.path.join(train_val_test_dir, 'test'))\n"
   ]
  },
  {
   "cell_type": "code",
   "execution_count": 40,
   "metadata": {},
   "outputs": [
    {
     "name": "stdout",
     "output_type": "stream",
     "text": [
      "Ultralytics YOLOv8.2.25 🚀 Python-3.9.19 torch-2.3.0 CPU (Apple M2)\n",
      "\u001b[34m\u001b[1mengine/trainer: \u001b[0mtask=detect, mode=train, model=yolov8n.pt, data=./3d_printer.yaml, epochs=100, time=None, patience=100, batch=16, imgsz=640, save=True, save_period=-1, cache=False, device=None, workers=8, project=None, name=train12, exist_ok=False, pretrained=True, optimizer=auto, verbose=True, seed=0, deterministic=True, single_cls=False, rect=False, cos_lr=False, close_mosaic=10, resume=False, amp=True, fraction=1.0, profile=False, freeze=None, multi_scale=False, overlap_mask=True, mask_ratio=4, dropout=0.0, val=True, split=val, save_json=False, save_hybrid=False, conf=None, iou=0.7, max_det=300, half=False, dnn=False, plots=True, source=None, vid_stride=1, stream_buffer=False, visualize=False, augment=False, agnostic_nms=False, classes=None, retina_masks=False, embed=None, show=False, save_frames=False, save_txt=False, save_conf=False, save_crop=False, show_labels=True, show_conf=True, show_boxes=True, line_width=None, format=torchscript, keras=False, optimize=False, int8=False, dynamic=False, simplify=False, opset=None, workspace=4, nms=False, lr0=0.01, lrf=0.01, momentum=0.937, weight_decay=0.0005, warmup_epochs=3.0, warmup_momentum=0.8, warmup_bias_lr=0.1, box=7.5, cls=0.5, dfl=1.5, pose=12.0, kobj=1.0, label_smoothing=0.0, nbs=64, hsv_h=0.015, hsv_s=0.7, hsv_v=0.4, degrees=0.0, translate=0.1, scale=0.5, shear=0.0, perspective=0.0, flipud=0.0, fliplr=0.5, bgr=0.0, mosaic=1.0, mixup=0.0, copy_paste=0.0, auto_augment=randaugment, erasing=0.4, crop_fraction=1.0, cfg=None, tracker=botsort.yaml, save_dir=runs/detect/train12\n",
      "Overriding model.yaml nc=80 with nc=3\n",
      "\n",
      "                   from  n    params  module                                       arguments                     \n",
      "  0                  -1  1       464  ultralytics.nn.modules.conv.Conv             [3, 16, 3, 2]                 \n",
      "  1                  -1  1      4672  ultralytics.nn.modules.conv.Conv             [16, 32, 3, 2]                \n",
      "  2                  -1  1      7360  ultralytics.nn.modules.block.C2f             [32, 32, 1, True]             \n",
      "  3                  -1  1     18560  ultralytics.nn.modules.conv.Conv             [32, 64, 3, 2]                \n",
      "  4                  -1  2     49664  ultralytics.nn.modules.block.C2f             [64, 64, 2, True]             \n",
      "  5                  -1  1     73984  ultralytics.nn.modules.conv.Conv             [64, 128, 3, 2]               \n",
      "  6                  -1  2    197632  ultralytics.nn.modules.block.C2f             [128, 128, 2, True]           \n",
      "  7                  -1  1    295424  ultralytics.nn.modules.conv.Conv             [128, 256, 3, 2]              \n",
      "  8                  -1  1    460288  ultralytics.nn.modules.block.C2f             [256, 256, 1, True]           \n",
      "  9                  -1  1    164608  ultralytics.nn.modules.block.SPPF            [256, 256, 5]                 \n",
      " 10                  -1  1         0  torch.nn.modules.upsampling.Upsample         [None, 2, 'nearest']          \n",
      " 11             [-1, 6]  1         0  ultralytics.nn.modules.conv.Concat           [1]                           \n",
      " 12                  -1  1    148224  ultralytics.nn.modules.block.C2f             [384, 128, 1]                 \n",
      " 13                  -1  1         0  torch.nn.modules.upsampling.Upsample         [None, 2, 'nearest']          \n",
      " 14             [-1, 4]  1         0  ultralytics.nn.modules.conv.Concat           [1]                           \n",
      " 15                  -1  1     37248  ultralytics.nn.modules.block.C2f             [192, 64, 1]                  \n",
      " 16                  -1  1     36992  ultralytics.nn.modules.conv.Conv             [64, 64, 3, 2]                \n",
      " 17            [-1, 12]  1         0  ultralytics.nn.modules.conv.Concat           [1]                           \n",
      " 18                  -1  1    123648  ultralytics.nn.modules.block.C2f             [192, 128, 1]                 \n",
      " 19                  -1  1    147712  ultralytics.nn.modules.conv.Conv             [128, 128, 3, 2]              \n",
      " 20             [-1, 9]  1         0  ultralytics.nn.modules.conv.Concat           [1]                           \n",
      " 21                  -1  1    493056  ultralytics.nn.modules.block.C2f             [384, 256, 1]                 \n",
      " 22        [15, 18, 21]  1    751897  ultralytics.nn.modules.head.Detect           [3, [64, 128, 256]]           \n",
      "Model summary: 225 layers, 3011433 parameters, 3011417 gradients, 8.2 GFLOPs\n",
      "\n",
      "Transferred 319/355 items from pretrained weights\n",
      "Freezing layer 'model.22.dfl.conv.weight'\n"
     ]
    },
    {
     "name": "stderr",
     "output_type": "stream",
     "text": [
      "\u001b[34m\u001b[1mtrain: \u001b[0mScanning /Users/max/Documents/06_john_doc/3d_p/3DAnomalyDetect/exp/datasets/train/labels.cache... 60 images, 2 backgrounds, 0 corrupt: 100%|██████████| 60/60 [00:00<?, ?it/s]\n",
      "\u001b[34m\u001b[1mval: \u001b[0mScanning /Users/max/Documents/06_john_doc/3d_p/3DAnomalyDetect/exp/datasets/test/labels.cache... 36 images, 1 backgrounds, 0 corrupt: 100%|██████████| 36/36 [00:00<?, ?it/s]"
     ]
    },
    {
     "name": "stdout",
     "output_type": "stream",
     "text": [
      "Plotting labels to runs/detect/train12/labels.jpg... \n"
     ]
    },
    {
     "name": "stderr",
     "output_type": "stream",
     "text": [
      "\n"
     ]
    },
    {
     "name": "stdout",
     "output_type": "stream",
     "text": [
      "\u001b[34m\u001b[1moptimizer:\u001b[0m 'optimizer=auto' found, ignoring 'lr0=0.01' and 'momentum=0.937' and determining best 'optimizer', 'lr0' and 'momentum' automatically... \n",
      "\u001b[34m\u001b[1moptimizer:\u001b[0m AdamW(lr=0.001429, momentum=0.9) with parameter groups 57 weight(decay=0.0), 64 weight(decay=0.0005), 63 bias(decay=0.0)\n",
      "Image sizes 640 train, 640 val\n",
      "Using 0 dataloader workers\n",
      "Logging results to \u001b[1mruns/detect/train12\u001b[0m\n",
      "Starting training for 100 epochs...\n",
      "\n",
      "      Epoch    GPU_mem   box_loss   cls_loss   dfl_loss  Instances       Size\n"
     ]
    },
    {
     "name": "stderr",
     "output_type": "stream",
     "text": [
      "      1/100         0G      2.306      4.735      2.047         22        640: 100%|██████████| 4/4 [01:12<00:00, 18.24s/it]\n",
      "                 Class     Images  Instances      Box(P          R      mAP50  mAP50-95): 100%|██████████| 2/2 [00:19<00:00,  9.65s/it]"
     ]
    },
    {
     "name": "stdout",
     "output_type": "stream",
     "text": [
      "                   all         36         35    0.00172      0.385     0.0194    0.00848\n"
     ]
    },
    {
     "name": "stderr",
     "output_type": "stream",
     "text": [
      "\n"
     ]
    },
    {
     "name": "stdout",
     "output_type": "stream",
     "text": [
      "\n",
      "      Epoch    GPU_mem   box_loss   cls_loss   dfl_loss  Instances       Size\n"
     ]
    },
    {
     "name": "stderr",
     "output_type": "stream",
     "text": [
      "      2/100         0G      1.796      4.474       1.78         21        640: 100%|██████████| 4/4 [01:03<00:00, 15.75s/it]\n",
      "                 Class     Images  Instances      Box(P          R      mAP50  mAP50-95): 100%|██████████| 2/2 [00:26<00:00, 13.34s/it]"
     ]
    },
    {
     "name": "stdout",
     "output_type": "stream",
     "text": [
      "                   all         36         35    0.00283      0.656      0.193      0.119\n"
     ]
    },
    {
     "name": "stderr",
     "output_type": "stream",
     "text": [
      "\n"
     ]
    },
    {
     "name": "stdout",
     "output_type": "stream",
     "text": [
      "\n",
      "      Epoch    GPU_mem   box_loss   cls_loss   dfl_loss  Instances       Size\n"
     ]
    },
    {
     "name": "stderr",
     "output_type": "stream",
     "text": [
      "      3/100         0G      1.323      3.853      1.386         25        640: 100%|██████████| 4/4 [01:22<00:00, 20.65s/it]\n",
      "                 Class     Images  Instances      Box(P          R      mAP50  mAP50-95): 100%|██████████| 2/2 [00:18<00:00,  9.01s/it]"
     ]
    },
    {
     "name": "stdout",
     "output_type": "stream",
     "text": [
      "                   all         36         35    0.00397      0.956      0.436      0.298\n"
     ]
    },
    {
     "name": "stderr",
     "output_type": "stream",
     "text": [
      "\n"
     ]
    },
    {
     "name": "stdout",
     "output_type": "stream",
     "text": [
      "\n",
      "      Epoch    GPU_mem   box_loss   cls_loss   dfl_loss  Instances       Size\n"
     ]
    },
    {
     "name": "stderr",
     "output_type": "stream",
     "text": [
      "      4/100         0G      1.236      3.039      1.284         23        640: 100%|██████████| 4/4 [00:56<00:00, 14.16s/it]\n",
      "                 Class     Images  Instances      Box(P          R      mAP50  mAP50-95): 100%|██████████| 2/2 [00:17<00:00,  8.82s/it]"
     ]
    },
    {
     "name": "stdout",
     "output_type": "stream",
     "text": [
      "                   all         36         35    0.00423          1      0.585      0.416\n"
     ]
    },
    {
     "name": "stderr",
     "output_type": "stream",
     "text": [
      "\n"
     ]
    },
    {
     "name": "stdout",
     "output_type": "stream",
     "text": [
      "\n",
      "      Epoch    GPU_mem   box_loss   cls_loss   dfl_loss  Instances       Size\n"
     ]
    },
    {
     "name": "stderr",
     "output_type": "stream",
     "text": [
      "      5/100         0G      1.229      2.702      1.308         22        640: 100%|██████████| 4/4 [00:56<00:00, 14.17s/it]\n",
      "                 Class     Images  Instances      Box(P          R      mAP50  mAP50-95): 100%|██████████| 2/2 [00:17<00:00,  8.94s/it]"
     ]
    },
    {
     "name": "stdout",
     "output_type": "stream",
     "text": [
      "                   all         36         35    0.00399          1      0.608      0.445\n"
     ]
    },
    {
     "name": "stderr",
     "output_type": "stream",
     "text": [
      "\n"
     ]
    },
    {
     "name": "stdout",
     "output_type": "stream",
     "text": [
      "\n",
      "      Epoch    GPU_mem   box_loss   cls_loss   dfl_loss  Instances       Size\n"
     ]
    },
    {
     "name": "stderr",
     "output_type": "stream",
     "text": [
      "      6/100         0G      1.204      2.648       1.25         27        640: 100%|██████████| 4/4 [01:12<00:00, 18.14s/it]\n",
      "                 Class     Images  Instances      Box(P          R      mAP50  mAP50-95): 100%|██████████| 2/2 [00:17<00:00,  8.81s/it]"
     ]
    },
    {
     "name": "stdout",
     "output_type": "stream",
     "text": [
      "                   all         36         35    0.00367      0.978      0.606      0.403\n"
     ]
    },
    {
     "name": "stderr",
     "output_type": "stream",
     "text": [
      "\n"
     ]
    },
    {
     "name": "stdout",
     "output_type": "stream",
     "text": [
      "\n",
      "      Epoch    GPU_mem   box_loss   cls_loss   dfl_loss  Instances       Size\n"
     ]
    },
    {
     "name": "stderr",
     "output_type": "stream",
     "text": [
      "      7/100         0G      1.376      2.711      1.289         21        640: 100%|██████████| 4/4 [00:53<00:00, 13.49s/it]\n",
      "                 Class     Images  Instances      Box(P          R      mAP50  mAP50-95): 100%|██████████| 2/2 [00:17<00:00,  8.75s/it]"
     ]
    },
    {
     "name": "stdout",
     "output_type": "stream",
     "text": [
      "                   all         36         35    0.00367      0.978      0.649      0.418\n"
     ]
    },
    {
     "name": "stderr",
     "output_type": "stream",
     "text": [
      "\n"
     ]
    },
    {
     "name": "stdout",
     "output_type": "stream",
     "text": [
      "\n",
      "      Epoch    GPU_mem   box_loss   cls_loss   dfl_loss  Instances       Size\n"
     ]
    },
    {
     "name": "stderr",
     "output_type": "stream",
     "text": [
      "      8/100         0G      1.166      2.339       1.23         18        640: 100%|██████████| 4/4 [00:55<00:00, 13.79s/it]\n",
      "                 Class     Images  Instances      Box(P          R      mAP50  mAP50-95): 100%|██████████| 2/2 [00:17<00:00,  8.62s/it]"
     ]
    },
    {
     "name": "stdout",
     "output_type": "stream",
     "text": [
      "                   all         36         35    0.00384      0.978      0.634      0.477\n"
     ]
    },
    {
     "name": "stderr",
     "output_type": "stream",
     "text": [
      "\n"
     ]
    },
    {
     "name": "stdout",
     "output_type": "stream",
     "text": [
      "\n",
      "      Epoch    GPU_mem   box_loss   cls_loss   dfl_loss  Instances       Size\n"
     ]
    },
    {
     "name": "stderr",
     "output_type": "stream",
     "text": [
      "      9/100         0G      1.231      2.573      1.164         16        640: 100%|██████████| 4/4 [00:59<00:00, 14.81s/it]\n",
      "                 Class     Images  Instances      Box(P          R      mAP50  mAP50-95): 100%|██████████| 2/2 [00:17<00:00,  8.87s/it]"
     ]
    },
    {
     "name": "stdout",
     "output_type": "stream",
     "text": [
      "                   all         36         35     0.0043      0.978      0.702       0.48\n"
     ]
    },
    {
     "name": "stderr",
     "output_type": "stream",
     "text": [
      "\n"
     ]
    },
    {
     "name": "stdout",
     "output_type": "stream",
     "text": [
      "\n",
      "      Epoch    GPU_mem   box_loss   cls_loss   dfl_loss  Instances       Size\n"
     ]
    },
    {
     "name": "stderr",
     "output_type": "stream",
     "text": [
      "     10/100         0G      1.048      2.232       1.12         22        640: 100%|██████████| 4/4 [00:56<00:00, 14.08s/it]\n",
      "                 Class     Images  Instances      Box(P          R      mAP50  mAP50-95): 100%|██████████| 2/2 [00:17<00:00,  8.84s/it]"
     ]
    },
    {
     "name": "stdout",
     "output_type": "stream",
     "text": [
      "                   all         36         35    0.00413      0.959      0.401      0.196\n"
     ]
    },
    {
     "name": "stderr",
     "output_type": "stream",
     "text": [
      "\n"
     ]
    },
    {
     "name": "stdout",
     "output_type": "stream",
     "text": [
      "\n",
      "      Epoch    GPU_mem   box_loss   cls_loss   dfl_loss  Instances       Size\n"
     ]
    },
    {
     "name": "stderr",
     "output_type": "stream",
     "text": [
      "     11/100         0G       1.03      2.267      1.142         21        640: 100%|██████████| 4/4 [00:55<00:00, 13.80s/it]\n",
      "                 Class     Images  Instances      Box(P          R      mAP50  mAP50-95): 100%|██████████| 2/2 [00:17<00:00,  8.63s/it]"
     ]
    },
    {
     "name": "stdout",
     "output_type": "stream",
     "text": [
      "                   all         36         35    0.00339      0.596      0.342      0.183\n"
     ]
    },
    {
     "name": "stderr",
     "output_type": "stream",
     "text": [
      "\n"
     ]
    },
    {
     "name": "stdout",
     "output_type": "stream",
     "text": [
      "\n",
      "      Epoch    GPU_mem   box_loss   cls_loss   dfl_loss  Instances       Size\n"
     ]
    },
    {
     "name": "stderr",
     "output_type": "stream",
     "text": [
      "     12/100         0G      1.117       2.16      1.184         19        640: 100%|██████████| 4/4 [00:55<00:00, 13.97s/it]\n",
      "                 Class     Images  Instances      Box(P          R      mAP50  mAP50-95): 100%|██████████| 2/2 [00:19<00:00,  9.85s/it]"
     ]
    },
    {
     "name": "stdout",
     "output_type": "stream",
     "text": [
      "                   all         36         35    0.00395      0.656      0.412       0.28\n"
     ]
    },
    {
     "name": "stderr",
     "output_type": "stream",
     "text": [
      "\n"
     ]
    },
    {
     "name": "stdout",
     "output_type": "stream",
     "text": [
      "\n",
      "      Epoch    GPU_mem   box_loss   cls_loss   dfl_loss  Instances       Size\n"
     ]
    },
    {
     "name": "stderr",
     "output_type": "stream",
     "text": [
      "     13/100         0G      1.077      2.047      1.165         25        640: 100%|██████████| 4/4 [01:03<00:00, 15.76s/it]\n",
      "                 Class     Images  Instances      Box(P          R      mAP50  mAP50-95): 100%|██████████| 2/2 [00:18<00:00,  9.09s/it]"
     ]
    },
    {
     "name": "stdout",
     "output_type": "stream",
     "text": [
      "                   all         36         35    0.00409      0.633      0.395      0.299\n"
     ]
    },
    {
     "name": "stderr",
     "output_type": "stream",
     "text": [
      "\n"
     ]
    },
    {
     "name": "stdout",
     "output_type": "stream",
     "text": [
      "\n",
      "      Epoch    GPU_mem   box_loss   cls_loss   dfl_loss  Instances       Size\n"
     ]
    },
    {
     "name": "stderr",
     "output_type": "stream",
     "text": [
      "     14/100         0G      1.009      1.829      1.116         34        640: 100%|██████████| 4/4 [00:58<00:00, 14.51s/it]\n",
      "                 Class     Images  Instances      Box(P          R      mAP50  mAP50-95): 100%|██████████| 2/2 [00:17<00:00,  8.54s/it]"
     ]
    },
    {
     "name": "stdout",
     "output_type": "stream",
     "text": [
      "                   all         36         35          1     0.0538      0.517      0.368\n"
     ]
    },
    {
     "name": "stderr",
     "output_type": "stream",
     "text": [
      "\n"
     ]
    },
    {
     "name": "stdout",
     "output_type": "stream",
     "text": [
      "\n",
      "      Epoch    GPU_mem   box_loss   cls_loss   dfl_loss  Instances       Size\n"
     ]
    },
    {
     "name": "stderr",
     "output_type": "stream",
     "text": [
      "     15/100         0G     0.9955      2.018      1.133         20        640: 100%|██████████| 4/4 [00:55<00:00, 13.93s/it]\n",
      "                 Class     Images  Instances      Box(P          R      mAP50  mAP50-95): 100%|██████████| 2/2 [00:18<00:00,  9.31s/it]"
     ]
    },
    {
     "name": "stdout",
     "output_type": "stream",
     "text": [
      "                   all         36         35      0.949      0.103      0.253      0.169\n"
     ]
    },
    {
     "name": "stderr",
     "output_type": "stream",
     "text": [
      "\n"
     ]
    },
    {
     "name": "stdout",
     "output_type": "stream",
     "text": [
      "\n",
      "      Epoch    GPU_mem   box_loss   cls_loss   dfl_loss  Instances       Size\n"
     ]
    },
    {
     "name": "stderr",
     "output_type": "stream",
     "text": [
      "     16/100         0G      1.124      2.024      1.186         17        640: 100%|██████████| 4/4 [01:16<00:00, 19.21s/it]\n",
      "                 Class     Images  Instances      Box(P          R      mAP50  mAP50-95): 100%|██████████| 2/2 [00:17<00:00,  8.80s/it]"
     ]
    },
    {
     "name": "stdout",
     "output_type": "stream",
     "text": [
      "                   all         36         35      0.952      0.109      0.204      0.109\n"
     ]
    },
    {
     "name": "stderr",
     "output_type": "stream",
     "text": [
      "\n"
     ]
    },
    {
     "name": "stdout",
     "output_type": "stream",
     "text": [
      "\n",
      "      Epoch    GPU_mem   box_loss   cls_loss   dfl_loss  Instances       Size\n"
     ]
    },
    {
     "name": "stderr",
     "output_type": "stream",
     "text": [
      "     17/100         0G     0.9396      2.017      1.091         21        640: 100%|██████████| 4/4 [00:54<00:00, 13.74s/it]\n",
      "                 Class     Images  Instances      Box(P          R      mAP50  mAP50-95): 100%|██████████| 2/2 [00:23<00:00, 11.70s/it]"
     ]
    },
    {
     "name": "stdout",
     "output_type": "stream",
     "text": [
      "                   all         36         35      0.857      0.111      0.141     0.0651\n"
     ]
    },
    {
     "name": "stderr",
     "output_type": "stream",
     "text": [
      "\n"
     ]
    },
    {
     "name": "stdout",
     "output_type": "stream",
     "text": [
      "\n",
      "      Epoch    GPU_mem   box_loss   cls_loss   dfl_loss  Instances       Size\n"
     ]
    },
    {
     "name": "stderr",
     "output_type": "stream",
     "text": [
      "     18/100         0G      1.085      2.002      1.168         23        640: 100%|██████████| 4/4 [01:00<00:00, 15.17s/it]\n",
      "                 Class     Images  Instances      Box(P          R      mAP50  mAP50-95): 100%|██████████| 2/2 [00:18<00:00,  9.19s/it]"
     ]
    },
    {
     "name": "stdout",
     "output_type": "stream",
     "text": [
      "                   all         36         35      0.935       0.23      0.274      0.168\n"
     ]
    },
    {
     "name": "stderr",
     "output_type": "stream",
     "text": [
      "\n"
     ]
    },
    {
     "name": "stdout",
     "output_type": "stream",
     "text": [
      "\n",
      "      Epoch    GPU_mem   box_loss   cls_loss   dfl_loss  Instances       Size\n"
     ]
    },
    {
     "name": "stderr",
     "output_type": "stream",
     "text": [
      "     19/100         0G      1.092      2.097      1.178         23        640: 100%|██████████| 4/4 [00:59<00:00, 14.94s/it]\n",
      "                 Class     Images  Instances      Box(P          R      mAP50  mAP50-95): 100%|██████████| 2/2 [00:17<00:00,  8.68s/it]"
     ]
    },
    {
     "name": "stdout",
     "output_type": "stream",
     "text": [
      "                   all         36         35       0.87      0.241      0.352      0.231\n"
     ]
    },
    {
     "name": "stderr",
     "output_type": "stream",
     "text": [
      "\n"
     ]
    },
    {
     "name": "stdout",
     "output_type": "stream",
     "text": [
      "\n",
      "      Epoch    GPU_mem   box_loss   cls_loss   dfl_loss  Instances       Size\n"
     ]
    },
    {
     "name": "stderr",
     "output_type": "stream",
     "text": [
      "     20/100         0G      1.062      1.988      1.235         20        640: 100%|██████████| 4/4 [00:54<00:00, 13.66s/it]\n",
      "                 Class     Images  Instances      Box(P          R      mAP50  mAP50-95): 100%|██████████| 2/2 [00:17<00:00,  8.63s/it]"
     ]
    },
    {
     "name": "stdout",
     "output_type": "stream",
     "text": [
      "                   all         36         35      0.899      0.278      0.372       0.25\n"
     ]
    },
    {
     "name": "stderr",
     "output_type": "stream",
     "text": [
      "\n"
     ]
    },
    {
     "name": "stdout",
     "output_type": "stream",
     "text": [
      "\n",
      "      Epoch    GPU_mem   box_loss   cls_loss   dfl_loss  Instances       Size\n"
     ]
    },
    {
     "name": "stderr",
     "output_type": "stream",
     "text": [
      "     21/100         0G      1.028      1.878      1.158         21        640: 100%|██████████| 4/4 [00:54<00:00, 13.74s/it]\n",
      "                 Class     Images  Instances      Box(P          R      mAP50  mAP50-95): 100%|██████████| 2/2 [00:17<00:00,  8.51s/it]"
     ]
    },
    {
     "name": "stdout",
     "output_type": "stream",
     "text": [
      "                   all         36         35      0.893      0.296      0.425       0.27\n"
     ]
    },
    {
     "name": "stderr",
     "output_type": "stream",
     "text": [
      "\n"
     ]
    },
    {
     "name": "stdout",
     "output_type": "stream",
     "text": [
      "\n",
      "      Epoch    GPU_mem   box_loss   cls_loss   dfl_loss  Instances       Size\n"
     ]
    },
    {
     "name": "stderr",
     "output_type": "stream",
     "text": [
      "     22/100         0G      1.074       1.99       1.19         14        640: 100%|██████████| 4/4 [00:56<00:00, 14.16s/it]\n",
      "                 Class     Images  Instances      Box(P          R      mAP50  mAP50-95): 100%|██████████| 2/2 [00:17<00:00,  8.94s/it]"
     ]
    },
    {
     "name": "stdout",
     "output_type": "stream",
     "text": [
      "                   all         36         35      0.884      0.276      0.445      0.262\n"
     ]
    },
    {
     "name": "stderr",
     "output_type": "stream",
     "text": [
      "\n"
     ]
    },
    {
     "name": "stdout",
     "output_type": "stream",
     "text": [
      "\n",
      "      Epoch    GPU_mem   box_loss   cls_loss   dfl_loss  Instances       Size\n"
     ]
    },
    {
     "name": "stderr",
     "output_type": "stream",
     "text": [
      "     23/100         0G      1.078      2.061      1.153         20        640: 100%|██████████| 4/4 [01:00<00:00, 15.05s/it]\n",
      "                 Class     Images  Instances      Box(P          R      mAP50  mAP50-95): 100%|██████████| 2/2 [00:18<00:00,  9.04s/it]"
     ]
    },
    {
     "name": "stdout",
     "output_type": "stream",
     "text": [
      "                   all         36         35      0.877      0.479      0.555      0.387\n"
     ]
    },
    {
     "name": "stderr",
     "output_type": "stream",
     "text": [
      "\n"
     ]
    },
    {
     "name": "stdout",
     "output_type": "stream",
     "text": [
      "\n",
      "      Epoch    GPU_mem   box_loss   cls_loss   dfl_loss  Instances       Size\n"
     ]
    },
    {
     "name": "stderr",
     "output_type": "stream",
     "text": [
      "     24/100         0G     0.9422      1.856      1.089         21        640: 100%|██████████| 4/4 [00:57<00:00, 14.32s/it]\n",
      "                 Class     Images  Instances      Box(P          R      mAP50  mAP50-95): 100%|██████████| 2/2 [00:17<00:00,  8.77s/it]"
     ]
    },
    {
     "name": "stdout",
     "output_type": "stream",
     "text": [
      "                   all         36         35      0.791      0.539      0.612      0.451\n"
     ]
    },
    {
     "name": "stderr",
     "output_type": "stream",
     "text": [
      "\n"
     ]
    },
    {
     "name": "stdout",
     "output_type": "stream",
     "text": [
      "\n",
      "      Epoch    GPU_mem   box_loss   cls_loss   dfl_loss  Instances       Size\n"
     ]
    },
    {
     "name": "stderr",
     "output_type": "stream",
     "text": [
      "     25/100         0G      1.093      2.088       1.18         17        640: 100%|██████████| 4/4 [00:55<00:00, 13.84s/it]\n",
      "                 Class     Images  Instances      Box(P          R      mAP50  mAP50-95): 100%|██████████| 2/2 [00:18<00:00,  9.00s/it]"
     ]
    },
    {
     "name": "stdout",
     "output_type": "stream",
     "text": [
      "                   all         36         35      0.843      0.531      0.619      0.392\n"
     ]
    },
    {
     "name": "stderr",
     "output_type": "stream",
     "text": [
      "\n"
     ]
    },
    {
     "name": "stdout",
     "output_type": "stream",
     "text": [
      "\n",
      "      Epoch    GPU_mem   box_loss   cls_loss   dfl_loss  Instances       Size\n"
     ]
    },
    {
     "name": "stderr",
     "output_type": "stream",
     "text": [
      "     26/100         0G      1.124      2.002      1.151         23        640: 100%|██████████| 4/4 [00:59<00:00, 14.82s/it]\n",
      "                 Class     Images  Instances      Box(P          R      mAP50  mAP50-95): 100%|██████████| 2/2 [00:19<00:00,  9.53s/it]"
     ]
    },
    {
     "name": "stdout",
     "output_type": "stream",
     "text": [
      "                   all         36         35      0.836      0.617      0.632      0.369\n"
     ]
    },
    {
     "name": "stderr",
     "output_type": "stream",
     "text": [
      "\n"
     ]
    },
    {
     "name": "stdout",
     "output_type": "stream",
     "text": [
      "\n",
      "      Epoch    GPU_mem   box_loss   cls_loss   dfl_loss  Instances       Size\n"
     ]
    },
    {
     "name": "stderr",
     "output_type": "stream",
     "text": [
      "     27/100         0G       1.04      2.038      1.182         19        640: 100%|██████████| 4/4 [00:56<00:00, 14.03s/it]\n",
      "                 Class     Images  Instances      Box(P          R      mAP50  mAP50-95): 100%|██████████| 2/2 [00:17<00:00,  8.66s/it]"
     ]
    },
    {
     "name": "stdout",
     "output_type": "stream",
     "text": [
      "                   all         36         35      0.756      0.556      0.598      0.366\n"
     ]
    },
    {
     "name": "stderr",
     "output_type": "stream",
     "text": [
      "\n"
     ]
    },
    {
     "name": "stdout",
     "output_type": "stream",
     "text": [
      "\n",
      "      Epoch    GPU_mem   box_loss   cls_loss   dfl_loss  Instances       Size\n"
     ]
    },
    {
     "name": "stderr",
     "output_type": "stream",
     "text": [
      "     28/100         0G      1.029      1.887      1.081         23        640: 100%|██████████| 4/4 [01:00<00:00, 15.09s/it]\n",
      "                 Class     Images  Instances      Box(P          R      mAP50  mAP50-95): 100%|██████████| 2/2 [00:17<00:00,  8.70s/it]"
     ]
    },
    {
     "name": "stdout",
     "output_type": "stream",
     "text": [
      "                   all         36         35      0.771      0.566      0.587      0.344\n"
     ]
    },
    {
     "name": "stderr",
     "output_type": "stream",
     "text": [
      "\n"
     ]
    },
    {
     "name": "stdout",
     "output_type": "stream",
     "text": [
      "\n",
      "      Epoch    GPU_mem   box_loss   cls_loss   dfl_loss  Instances       Size\n"
     ]
    },
    {
     "name": "stderr",
     "output_type": "stream",
     "text": [
      "     29/100         0G     0.9224      1.836      1.081         16        640: 100%|██████████| 4/4 [00:55<00:00, 13.86s/it]\n",
      "                 Class     Images  Instances      Box(P          R      mAP50  mAP50-95): 100%|██████████| 2/2 [00:17<00:00,  8.54s/it]"
     ]
    },
    {
     "name": "stdout",
     "output_type": "stream",
     "text": [
      "                   all         36         35      0.842      0.541      0.576      0.336\n"
     ]
    },
    {
     "name": "stderr",
     "output_type": "stream",
     "text": [
      "\n"
     ]
    },
    {
     "name": "stdout",
     "output_type": "stream",
     "text": [
      "\n",
      "      Epoch    GPU_mem   box_loss   cls_loss   dfl_loss  Instances       Size\n"
     ]
    },
    {
     "name": "stderr",
     "output_type": "stream",
     "text": [
      "     30/100         0G      1.176      1.874      1.138         18        640: 100%|██████████| 4/4 [00:57<00:00, 14.50s/it]\n",
      "                 Class     Images  Instances      Box(P          R      mAP50  mAP50-95): 100%|██████████| 2/2 [00:17<00:00,  8.96s/it]"
     ]
    },
    {
     "name": "stdout",
     "output_type": "stream",
     "text": [
      "                   all         36         35      0.826      0.495      0.589      0.419\n"
     ]
    },
    {
     "name": "stderr",
     "output_type": "stream",
     "text": [
      "\n"
     ]
    },
    {
     "name": "stdout",
     "output_type": "stream",
     "text": [
      "\n",
      "      Epoch    GPU_mem   box_loss   cls_loss   dfl_loss  Instances       Size\n"
     ]
    },
    {
     "name": "stderr",
     "output_type": "stream",
     "text": [
      "     31/100         0G      1.027       1.86      1.116         15        640: 100%|██████████| 4/4 [00:57<00:00, 14.31s/it]\n",
      "                 Class     Images  Instances      Box(P          R      mAP50  mAP50-95): 100%|██████████| 2/2 [00:16<00:00,  8.39s/it]"
     ]
    },
    {
     "name": "stdout",
     "output_type": "stream",
     "text": [
      "                   all         36         35      0.922      0.622      0.652      0.499\n"
     ]
    },
    {
     "name": "stderr",
     "output_type": "stream",
     "text": [
      "\n"
     ]
    },
    {
     "name": "stdout",
     "output_type": "stream",
     "text": [
      "\n",
      "      Epoch    GPU_mem   box_loss   cls_loss   dfl_loss  Instances       Size\n"
     ]
    },
    {
     "name": "stderr",
     "output_type": "stream",
     "text": [
      "     32/100         0G     0.9511      1.668       1.08         14        640: 100%|██████████| 4/4 [00:55<00:00, 13.94s/it]\n",
      "                 Class     Images  Instances      Box(P          R      mAP50  mAP50-95): 100%|██████████| 2/2 [00:16<00:00,  8.45s/it]"
     ]
    },
    {
     "name": "stdout",
     "output_type": "stream",
     "text": [
      "                   all         36         35      0.904      0.615      0.651      0.492\n"
     ]
    },
    {
     "name": "stderr",
     "output_type": "stream",
     "text": [
      "\n"
     ]
    },
    {
     "name": "stdout",
     "output_type": "stream",
     "text": [
      "\n",
      "      Epoch    GPU_mem   box_loss   cls_loss   dfl_loss  Instances       Size\n"
     ]
    },
    {
     "name": "stderr",
     "output_type": "stream",
     "text": [
      "     33/100         0G      1.091        1.8       1.14         22        640: 100%|██████████| 4/4 [00:53<00:00, 13.29s/it]\n",
      "                 Class     Images  Instances      Box(P          R      mAP50  mAP50-95): 100%|██████████| 2/2 [00:16<00:00,  8.47s/it]"
     ]
    },
    {
     "name": "stdout",
     "output_type": "stream",
     "text": [
      "                   all         36         35      0.856      0.577      0.632      0.462\n"
     ]
    },
    {
     "name": "stderr",
     "output_type": "stream",
     "text": [
      "\n"
     ]
    },
    {
     "name": "stdout",
     "output_type": "stream",
     "text": [
      "\n",
      "      Epoch    GPU_mem   box_loss   cls_loss   dfl_loss  Instances       Size\n"
     ]
    },
    {
     "name": "stderr",
     "output_type": "stream",
     "text": [
      "     34/100         0G      1.015      1.831      1.118         21        640: 100%|██████████| 4/4 [00:58<00:00, 14.72s/it]\n",
      "                 Class     Images  Instances      Box(P          R      mAP50  mAP50-95): 100%|██████████| 2/2 [00:19<00:00,  9.56s/it]"
     ]
    },
    {
     "name": "stdout",
     "output_type": "stream",
     "text": [
      "                   all         36         35      0.874      0.556      0.647      0.448\n"
     ]
    },
    {
     "name": "stderr",
     "output_type": "stream",
     "text": [
      "\n"
     ]
    },
    {
     "name": "stdout",
     "output_type": "stream",
     "text": [
      "\n",
      "      Epoch    GPU_mem   box_loss   cls_loss   dfl_loss  Instances       Size\n"
     ]
    },
    {
     "name": "stderr",
     "output_type": "stream",
     "text": [
      "     35/100         0G       1.06      1.592      1.092         27        640: 100%|██████████| 4/4 [00:56<00:00, 14.22s/it]\n",
      "                 Class     Images  Instances      Box(P          R      mAP50  mAP50-95): 100%|██████████| 2/2 [00:17<00:00,  8.97s/it]"
     ]
    },
    {
     "name": "stdout",
     "output_type": "stream",
     "text": [
      "                   all         36         35      0.841      0.499       0.66      0.463\n"
     ]
    },
    {
     "name": "stderr",
     "output_type": "stream",
     "text": [
      "\n"
     ]
    },
    {
     "name": "stdout",
     "output_type": "stream",
     "text": [
      "\n",
      "      Epoch    GPU_mem   box_loss   cls_loss   dfl_loss  Instances       Size\n"
     ]
    },
    {
     "name": "stderr",
     "output_type": "stream",
     "text": [
      "     36/100         0G     0.9435      1.612      1.129         19        640: 100%|██████████| 4/4 [01:00<00:00, 15.01s/it]\n",
      "                 Class     Images  Instances      Box(P          R      mAP50  mAP50-95): 100%|██████████| 2/2 [00:17<00:00,  8.59s/it]"
     ]
    },
    {
     "name": "stdout",
     "output_type": "stream",
     "text": [
      "                   all         36         35       0.84      0.444      0.599      0.417\n"
     ]
    },
    {
     "name": "stderr",
     "output_type": "stream",
     "text": [
      "\n"
     ]
    },
    {
     "name": "stdout",
     "output_type": "stream",
     "text": [
      "\n",
      "      Epoch    GPU_mem   box_loss   cls_loss   dfl_loss  Instances       Size\n"
     ]
    },
    {
     "name": "stderr",
     "output_type": "stream",
     "text": [
      "     37/100         0G     0.8859      1.574       1.06         14        640: 100%|██████████| 4/4 [01:02<00:00, 15.63s/it]\n",
      "                 Class     Images  Instances      Box(P          R      mAP50  mAP50-95): 100%|██████████| 2/2 [00:17<00:00,  8.80s/it]"
     ]
    },
    {
     "name": "stdout",
     "output_type": "stream",
     "text": [
      "                   all         36         35      0.783       0.47      0.611      0.442\n"
     ]
    },
    {
     "name": "stderr",
     "output_type": "stream",
     "text": [
      "\n"
     ]
    },
    {
     "name": "stdout",
     "output_type": "stream",
     "text": [
      "\n",
      "      Epoch    GPU_mem   box_loss   cls_loss   dfl_loss  Instances       Size\n"
     ]
    },
    {
     "name": "stderr",
     "output_type": "stream",
     "text": [
      "     38/100         0G     0.9529      1.487      1.125         19        640: 100%|██████████| 4/4 [00:55<00:00, 13.81s/it]\n",
      "                 Class     Images  Instances      Box(P          R      mAP50  mAP50-95): 100%|██████████| 2/2 [00:17<00:00,  8.50s/it]"
     ]
    },
    {
     "name": "stdout",
     "output_type": "stream",
     "text": [
      "                   all         36         35      0.887      0.533      0.677      0.524\n"
     ]
    },
    {
     "name": "stderr",
     "output_type": "stream",
     "text": [
      "\n"
     ]
    },
    {
     "name": "stdout",
     "output_type": "stream",
     "text": [
      "\n",
      "      Epoch    GPU_mem   box_loss   cls_loss   dfl_loss  Instances       Size\n"
     ]
    },
    {
     "name": "stderr",
     "output_type": "stream",
     "text": [
      "     39/100         0G     0.9079      1.534       1.08         16        640: 100%|██████████| 4/4 [00:55<00:00, 13.85s/it]\n",
      "                 Class     Images  Instances      Box(P          R      mAP50  mAP50-95): 100%|██████████| 2/2 [00:17<00:00,  8.89s/it]"
     ]
    },
    {
     "name": "stdout",
     "output_type": "stream",
     "text": [
      "                   all         36         35      0.953      0.541      0.709       0.56\n"
     ]
    },
    {
     "name": "stderr",
     "output_type": "stream",
     "text": [
      "\n"
     ]
    },
    {
     "name": "stdout",
     "output_type": "stream",
     "text": [
      "\n",
      "      Epoch    GPU_mem   box_loss   cls_loss   dfl_loss  Instances       Size\n"
     ]
    },
    {
     "name": "stderr",
     "output_type": "stream",
     "text": [
      "     40/100         0G     0.8476      1.392      1.043         22        640: 100%|██████████| 4/4 [00:56<00:00, 14.13s/it]\n",
      "                 Class     Images  Instances      Box(P          R      mAP50  mAP50-95): 100%|██████████| 2/2 [00:16<00:00,  8.49s/it]"
     ]
    },
    {
     "name": "stdout",
     "output_type": "stream",
     "text": [
      "                   all         36         35      0.919        0.6      0.739      0.585\n"
     ]
    },
    {
     "name": "stderr",
     "output_type": "stream",
     "text": [
      "\n"
     ]
    },
    {
     "name": "stdout",
     "output_type": "stream",
     "text": [
      "\n",
      "      Epoch    GPU_mem   box_loss   cls_loss   dfl_loss  Instances       Size\n"
     ]
    },
    {
     "name": "stderr",
     "output_type": "stream",
     "text": [
      "     41/100         0G     0.8009      1.619       1.05         18        640: 100%|██████████| 4/4 [00:54<00:00, 13.60s/it]\n",
      "                 Class     Images  Instances      Box(P          R      mAP50  mAP50-95): 100%|██████████| 2/2 [00:17<00:00,  8.70s/it]"
     ]
    },
    {
     "name": "stdout",
     "output_type": "stream",
     "text": [
      "                   all         36         35      0.864      0.667      0.698      0.543\n"
     ]
    },
    {
     "name": "stderr",
     "output_type": "stream",
     "text": [
      "\n"
     ]
    },
    {
     "name": "stdout",
     "output_type": "stream",
     "text": [
      "\n",
      "      Epoch    GPU_mem   box_loss   cls_loss   dfl_loss  Instances       Size\n"
     ]
    },
    {
     "name": "stderr",
     "output_type": "stream",
     "text": [
      "     42/100         0G      0.915      1.488      1.078         13        640: 100%|██████████| 4/4 [00:54<00:00, 13.72s/it]\n",
      "                 Class     Images  Instances      Box(P          R      mAP50  mAP50-95): 100%|██████████| 2/2 [00:17<00:00,  8.73s/it]"
     ]
    },
    {
     "name": "stdout",
     "output_type": "stream",
     "text": [
      "                   all         36         35      0.875      0.667      0.715      0.566\n"
     ]
    },
    {
     "name": "stderr",
     "output_type": "stream",
     "text": [
      "\n"
     ]
    },
    {
     "name": "stdout",
     "output_type": "stream",
     "text": [
      "\n",
      "      Epoch    GPU_mem   box_loss   cls_loss   dfl_loss  Instances       Size\n"
     ]
    },
    {
     "name": "stderr",
     "output_type": "stream",
     "text": [
      "     43/100         0G     0.9447      1.546      1.166         24        640: 100%|██████████| 4/4 [00:55<00:00, 13.85s/it]\n",
      "                 Class     Images  Instances      Box(P          R      mAP50  mAP50-95): 100%|██████████| 2/2 [00:18<00:00,  9.20s/it]"
     ]
    },
    {
     "name": "stdout",
     "output_type": "stream",
     "text": [
      "                   all         36         35      0.886      0.666      0.716      0.569\n"
     ]
    },
    {
     "name": "stderr",
     "output_type": "stream",
     "text": [
      "\n"
     ]
    },
    {
     "name": "stdout",
     "output_type": "stream",
     "text": [
      "\n",
      "      Epoch    GPU_mem   box_loss   cls_loss   dfl_loss  Instances       Size\n"
     ]
    },
    {
     "name": "stderr",
     "output_type": "stream",
     "text": [
      "     44/100         0G     0.8402      1.446      1.002         17        640: 100%|██████████| 4/4 [00:56<00:00, 14.19s/it]\n",
      "                 Class     Images  Instances      Box(P          R      mAP50  mAP50-95): 100%|██████████| 2/2 [00:17<00:00,  8.58s/it]"
     ]
    },
    {
     "name": "stdout",
     "output_type": "stream",
     "text": [
      "                   all         36         35      0.908      0.622      0.716       0.58\n"
     ]
    },
    {
     "name": "stderr",
     "output_type": "stream",
     "text": [
      "\n"
     ]
    },
    {
     "name": "stdout",
     "output_type": "stream",
     "text": [
      "\n",
      "      Epoch    GPU_mem   box_loss   cls_loss   dfl_loss  Instances       Size\n"
     ]
    },
    {
     "name": "stderr",
     "output_type": "stream",
     "text": [
      "     45/100         0G     0.8407      1.541      1.086         11        640: 100%|██████████| 4/4 [00:57<00:00, 14.45s/it]\n",
      "                 Class     Images  Instances      Box(P          R      mAP50  mAP50-95): 100%|██████████| 2/2 [00:18<00:00,  9.33s/it]"
     ]
    },
    {
     "name": "stdout",
     "output_type": "stream",
     "text": [
      "                   all         36         35       0.92      0.559      0.731      0.605\n"
     ]
    },
    {
     "name": "stderr",
     "output_type": "stream",
     "text": [
      "\n"
     ]
    },
    {
     "name": "stdout",
     "output_type": "stream",
     "text": [
      "\n",
      "      Epoch    GPU_mem   box_loss   cls_loss   dfl_loss  Instances       Size\n"
     ]
    },
    {
     "name": "stderr",
     "output_type": "stream",
     "text": [
      "     46/100         0G     0.8316      1.437      1.098         15        640: 100%|██████████| 4/4 [01:01<00:00, 15.41s/it]\n",
      "                 Class     Images  Instances      Box(P          R      mAP50  mAP50-95): 100%|██████████| 2/2 [00:19<00:00,  9.60s/it]"
     ]
    },
    {
     "name": "stdout",
     "output_type": "stream",
     "text": [
      "                   all         36         35      0.495       0.76      0.726      0.586\n"
     ]
    },
    {
     "name": "stderr",
     "output_type": "stream",
     "text": [
      "\n"
     ]
    },
    {
     "name": "stdout",
     "output_type": "stream",
     "text": [
      "\n",
      "      Epoch    GPU_mem   box_loss   cls_loss   dfl_loss  Instances       Size\n"
     ]
    },
    {
     "name": "stderr",
     "output_type": "stream",
     "text": [
      "     47/100         0G     0.8748      1.462      1.112         14        640: 100%|██████████| 4/4 [00:54<00:00, 13.66s/it]\n",
      "                 Class     Images  Instances      Box(P          R      mAP50  mAP50-95): 100%|██████████| 2/2 [00:17<00:00,  8.74s/it]"
     ]
    },
    {
     "name": "stdout",
     "output_type": "stream",
     "text": [
      "                   all         36         35      0.562      0.704      0.728      0.593\n"
     ]
    },
    {
     "name": "stderr",
     "output_type": "stream",
     "text": [
      "\n"
     ]
    },
    {
     "name": "stdout",
     "output_type": "stream",
     "text": [
      "\n",
      "      Epoch    GPU_mem   box_loss   cls_loss   dfl_loss  Instances       Size\n"
     ]
    },
    {
     "name": "stderr",
     "output_type": "stream",
     "text": [
      "     48/100         0G     0.7986      1.408      1.059         21        640: 100%|██████████| 4/4 [00:56<00:00, 14.16s/it]\n",
      "                 Class     Images  Instances      Box(P          R      mAP50  mAP50-95): 100%|██████████| 2/2 [00:17<00:00,  8.55s/it]"
     ]
    },
    {
     "name": "stdout",
     "output_type": "stream",
     "text": [
      "                   all         36         35      0.601      0.833       0.74      0.608\n"
     ]
    },
    {
     "name": "stderr",
     "output_type": "stream",
     "text": [
      "\n"
     ]
    },
    {
     "name": "stdout",
     "output_type": "stream",
     "text": [
      "\n",
      "      Epoch    GPU_mem   box_loss   cls_loss   dfl_loss  Instances       Size\n"
     ]
    },
    {
     "name": "stderr",
     "output_type": "stream",
     "text": [
      "     49/100         0G     0.7899      1.312          1         21        640: 100%|██████████| 4/4 [00:55<00:00, 13.93s/it]\n",
      "                 Class     Images  Instances      Box(P          R      mAP50  mAP50-95): 100%|██████████| 2/2 [00:19<00:00,  9.70s/it]"
     ]
    },
    {
     "name": "stdout",
     "output_type": "stream",
     "text": [
      "                   all         36         35      0.546      0.833      0.756      0.611\n"
     ]
    },
    {
     "name": "stderr",
     "output_type": "stream",
     "text": [
      "\n"
     ]
    },
    {
     "name": "stdout",
     "output_type": "stream",
     "text": [
      "\n",
      "      Epoch    GPU_mem   box_loss   cls_loss   dfl_loss  Instances       Size\n"
     ]
    },
    {
     "name": "stderr",
     "output_type": "stream",
     "text": [
      "     50/100         0G     0.8118      1.294      1.098         20        640: 100%|██████████| 4/4 [01:00<00:00, 15.09s/it]\n",
      "                 Class     Images  Instances      Box(P          R      mAP50  mAP50-95): 100%|██████████| 2/2 [00:19<00:00,  9.51s/it]"
     ]
    },
    {
     "name": "stdout",
     "output_type": "stream",
     "text": [
      "                   all         36         35      0.947      0.667       0.84       0.68\n"
     ]
    },
    {
     "name": "stderr",
     "output_type": "stream",
     "text": [
      "\n"
     ]
    },
    {
     "name": "stdout",
     "output_type": "stream",
     "text": [
      "\n",
      "      Epoch    GPU_mem   box_loss   cls_loss   dfl_loss  Instances       Size\n"
     ]
    },
    {
     "name": "stderr",
     "output_type": "stream",
     "text": [
      "     51/100         0G     0.8265      1.324      1.047         26        640: 100%|██████████| 4/4 [00:55<00:00, 13.89s/it]\n",
      "                 Class     Images  Instances      Box(P          R      mAP50  mAP50-95): 100%|██████████| 2/2 [00:17<00:00,  8.80s/it]"
     ]
    },
    {
     "name": "stdout",
     "output_type": "stream",
     "text": [
      "                   all         36         35      0.944      0.636      0.845      0.678\n"
     ]
    },
    {
     "name": "stderr",
     "output_type": "stream",
     "text": [
      "\n"
     ]
    },
    {
     "name": "stdout",
     "output_type": "stream",
     "text": [
      "\n",
      "      Epoch    GPU_mem   box_loss   cls_loss   dfl_loss  Instances       Size\n"
     ]
    },
    {
     "name": "stderr",
     "output_type": "stream",
     "text": [
      "     52/100         0G     0.8817      1.411      1.051         22        640: 100%|██████████| 4/4 [00:57<00:00, 14.27s/it]\n",
      "                 Class     Images  Instances      Box(P          R      mAP50  mAP50-95): 100%|██████████| 2/2 [00:17<00:00,  8.58s/it]"
     ]
    },
    {
     "name": "stdout",
     "output_type": "stream",
     "text": [
      "                   all         36         35      0.709      0.833      0.842      0.686\n"
     ]
    },
    {
     "name": "stderr",
     "output_type": "stream",
     "text": [
      "\n"
     ]
    },
    {
     "name": "stdout",
     "output_type": "stream",
     "text": [
      "\n",
      "      Epoch    GPU_mem   box_loss   cls_loss   dfl_loss  Instances       Size\n"
     ]
    },
    {
     "name": "stderr",
     "output_type": "stream",
     "text": [
      "     53/100         0G     0.8827      1.362      1.067         18        640: 100%|██████████| 4/4 [00:57<00:00, 14.32s/it]\n",
      "                 Class     Images  Instances      Box(P          R      mAP50  mAP50-95): 100%|██████████| 2/2 [00:16<00:00,  8.47s/it]"
     ]
    },
    {
     "name": "stdout",
     "output_type": "stream",
     "text": [
      "                   all         36         35      0.822      0.833      0.828      0.662\n"
     ]
    },
    {
     "name": "stderr",
     "output_type": "stream",
     "text": [
      "\n"
     ]
    },
    {
     "name": "stdout",
     "output_type": "stream",
     "text": [
      "\n",
      "      Epoch    GPU_mem   box_loss   cls_loss   dfl_loss  Instances       Size\n"
     ]
    },
    {
     "name": "stderr",
     "output_type": "stream",
     "text": [
      "     54/100         0G     0.7724      1.346      1.027         20        640: 100%|██████████| 4/4 [00:59<00:00, 14.78s/it]\n",
      "                 Class     Images  Instances      Box(P          R      mAP50  mAP50-95): 100%|██████████| 2/2 [00:18<00:00,  9.48s/it]"
     ]
    },
    {
     "name": "stdout",
     "output_type": "stream",
     "text": [
      "                   all         36         35      0.825      0.833       0.85      0.678\n"
     ]
    },
    {
     "name": "stderr",
     "output_type": "stream",
     "text": [
      "\n"
     ]
    },
    {
     "name": "stdout",
     "output_type": "stream",
     "text": [
      "\n",
      "      Epoch    GPU_mem   box_loss   cls_loss   dfl_loss  Instances       Size\n"
     ]
    },
    {
     "name": "stderr",
     "output_type": "stream",
     "text": [
      "     55/100         0G     0.8451       1.36      1.061         16        640: 100%|██████████| 4/4 [00:58<00:00, 14.60s/it]\n",
      "                 Class     Images  Instances      Box(P          R      mAP50  mAP50-95): 100%|██████████| 2/2 [00:17<00:00,  8.72s/it]"
     ]
    },
    {
     "name": "stdout",
     "output_type": "stream",
     "text": [
      "                   all         36         35      0.859      0.833      0.848      0.685\n"
     ]
    },
    {
     "name": "stderr",
     "output_type": "stream",
     "text": [
      "\n"
     ]
    },
    {
     "name": "stdout",
     "output_type": "stream",
     "text": [
      "\n",
      "      Epoch    GPU_mem   box_loss   cls_loss   dfl_loss  Instances       Size\n"
     ]
    },
    {
     "name": "stderr",
     "output_type": "stream",
     "text": [
      "     56/100         0G     0.8178      1.319      1.084         16        640: 100%|██████████| 4/4 [00:57<00:00, 14.37s/it]\n",
      "                 Class     Images  Instances      Box(P          R      mAP50  mAP50-95): 100%|██████████| 2/2 [00:17<00:00,  8.96s/it]"
     ]
    },
    {
     "name": "stdout",
     "output_type": "stream",
     "text": [
      "                   all         36         35      0.837      0.833      0.855      0.713\n"
     ]
    },
    {
     "name": "stderr",
     "output_type": "stream",
     "text": [
      "\n"
     ]
    },
    {
     "name": "stdout",
     "output_type": "stream",
     "text": [
      "\n",
      "      Epoch    GPU_mem   box_loss   cls_loss   dfl_loss  Instances       Size\n"
     ]
    },
    {
     "name": "stderr",
     "output_type": "stream",
     "text": [
      "     57/100         0G       0.78      1.248      1.024         19        640: 100%|██████████| 4/4 [00:55<00:00, 13.88s/it]\n",
      "                 Class     Images  Instances      Box(P          R      mAP50  mAP50-95): 100%|██████████| 2/2 [00:17<00:00,  8.57s/it]"
     ]
    },
    {
     "name": "stdout",
     "output_type": "stream",
     "text": [
      "                   all         36         35      0.872      0.833      0.848       0.72\n"
     ]
    },
    {
     "name": "stderr",
     "output_type": "stream",
     "text": [
      "\n"
     ]
    },
    {
     "name": "stdout",
     "output_type": "stream",
     "text": [
      "\n",
      "      Epoch    GPU_mem   box_loss   cls_loss   dfl_loss  Instances       Size\n"
     ]
    },
    {
     "name": "stderr",
     "output_type": "stream",
     "text": [
      "     58/100         0G     0.8413      1.186      1.052         21        640: 100%|██████████| 4/4 [00:56<00:00, 14.03s/it]\n",
      "                 Class     Images  Instances      Box(P          R      mAP50  mAP50-95): 100%|██████████| 2/2 [00:18<00:00,  9.07s/it]"
     ]
    },
    {
     "name": "stdout",
     "output_type": "stream",
     "text": [
      "                   all         36         35      0.907      0.833       0.86      0.714\n"
     ]
    },
    {
     "name": "stderr",
     "output_type": "stream",
     "text": [
      "\n"
     ]
    },
    {
     "name": "stdout",
     "output_type": "stream",
     "text": [
      "\n",
      "      Epoch    GPU_mem   box_loss   cls_loss   dfl_loss  Instances       Size\n"
     ]
    },
    {
     "name": "stderr",
     "output_type": "stream",
     "text": [
      "     59/100         0G      0.812      1.184      1.033         14        640: 100%|██████████| 4/4 [00:55<00:00, 13.86s/it]\n",
      "                 Class     Images  Instances      Box(P          R      mAP50  mAP50-95): 100%|██████████| 2/2 [00:18<00:00,  9.06s/it]"
     ]
    },
    {
     "name": "stdout",
     "output_type": "stream",
     "text": [
      "                   all         36         35      0.898      0.833      0.856      0.723\n"
     ]
    },
    {
     "name": "stderr",
     "output_type": "stream",
     "text": [
      "\n"
     ]
    },
    {
     "name": "stdout",
     "output_type": "stream",
     "text": [
      "\n",
      "      Epoch    GPU_mem   box_loss   cls_loss   dfl_loss  Instances       Size\n"
     ]
    },
    {
     "name": "stderr",
     "output_type": "stream",
     "text": [
      "     60/100         0G     0.7619      1.144     0.9969         27        640: 100%|██████████| 4/4 [01:03<00:00, 15.84s/it]\n",
      "                 Class     Images  Instances      Box(P          R      mAP50  mAP50-95): 100%|██████████| 2/2 [00:19<00:00,  9.53s/it]"
     ]
    },
    {
     "name": "stdout",
     "output_type": "stream",
     "text": [
      "                   all         36         35      0.877      0.833      0.853      0.721\n"
     ]
    },
    {
     "name": "stderr",
     "output_type": "stream",
     "text": [
      "\n"
     ]
    },
    {
     "name": "stdout",
     "output_type": "stream",
     "text": [
      "\n",
      "      Epoch    GPU_mem   box_loss   cls_loss   dfl_loss  Instances       Size\n"
     ]
    },
    {
     "name": "stderr",
     "output_type": "stream",
     "text": [
      "     61/100         0G     0.7309      1.131     0.9845         23        640: 100%|██████████| 4/4 [00:59<00:00, 14.89s/it]\n",
      "                 Class     Images  Instances      Box(P          R      mAP50  mAP50-95): 100%|██████████| 2/2 [00:17<00:00,  8.81s/it]"
     ]
    },
    {
     "name": "stdout",
     "output_type": "stream",
     "text": [
      "                   all         36         35      0.871      0.833      0.856      0.728\n"
     ]
    },
    {
     "name": "stderr",
     "output_type": "stream",
     "text": [
      "\n"
     ]
    },
    {
     "name": "stdout",
     "output_type": "stream",
     "text": [
      "\n",
      "      Epoch    GPU_mem   box_loss   cls_loss   dfl_loss  Instances       Size\n"
     ]
    },
    {
     "name": "stderr",
     "output_type": "stream",
     "text": [
      "     62/100         0G      0.701      1.134     0.9495         21        640: 100%|██████████| 4/4 [00:55<00:00, 13.93s/it]\n",
      "                 Class     Images  Instances      Box(P          R      mAP50  mAP50-95): 100%|██████████| 2/2 [00:17<00:00,  8.75s/it]"
     ]
    },
    {
     "name": "stdout",
     "output_type": "stream",
     "text": [
      "                   all         36         35      0.872      0.833      0.856      0.735\n"
     ]
    },
    {
     "name": "stderr",
     "output_type": "stream",
     "text": [
      "\n"
     ]
    },
    {
     "name": "stdout",
     "output_type": "stream",
     "text": [
      "\n",
      "      Epoch    GPU_mem   box_loss   cls_loss   dfl_loss  Instances       Size\n"
     ]
    },
    {
     "name": "stderr",
     "output_type": "stream",
     "text": [
      "     63/100         0G     0.7345      1.074     0.9784         25        640: 100%|██████████| 4/4 [00:55<00:00, 13.95s/it]\n",
      "                 Class     Images  Instances      Box(P          R      mAP50  mAP50-95): 100%|██████████| 2/2 [00:17<00:00,  8.77s/it]"
     ]
    },
    {
     "name": "stdout",
     "output_type": "stream",
     "text": [
      "                   all         36         35      0.884      0.833      0.858      0.747\n"
     ]
    },
    {
     "name": "stderr",
     "output_type": "stream",
     "text": [
      "\n"
     ]
    },
    {
     "name": "stdout",
     "output_type": "stream",
     "text": [
      "\n",
      "      Epoch    GPU_mem   box_loss   cls_loss   dfl_loss  Instances       Size\n"
     ]
    },
    {
     "name": "stderr",
     "output_type": "stream",
     "text": [
      "     64/100         0G     0.8282      1.322      1.041         21        640: 100%|██████████| 4/4 [00:56<00:00, 14.06s/it]\n",
      "                 Class     Images  Instances      Box(P          R      mAP50  mAP50-95): 100%|██████████| 2/2 [00:16<00:00,  8.44s/it]"
     ]
    },
    {
     "name": "stdout",
     "output_type": "stream",
     "text": [
      "                   all         36         35      0.917      0.833      0.863      0.774\n"
     ]
    },
    {
     "name": "stderr",
     "output_type": "stream",
     "text": [
      "\n"
     ]
    },
    {
     "name": "stdout",
     "output_type": "stream",
     "text": [
      "\n",
      "      Epoch    GPU_mem   box_loss   cls_loss   dfl_loss  Instances       Size\n"
     ]
    },
    {
     "name": "stderr",
     "output_type": "stream",
     "text": [
      "     65/100         0G     0.8271      1.283      1.018         22        640: 100%|██████████| 4/4 [00:53<00:00, 13.31s/it]\n",
      "                 Class     Images  Instances      Box(P          R      mAP50  mAP50-95): 100%|██████████| 2/2 [00:16<00:00,  8.41s/it]"
     ]
    },
    {
     "name": "stdout",
     "output_type": "stream",
     "text": [
      "                   all         36         35      0.936      0.833       0.88      0.778\n"
     ]
    },
    {
     "name": "stderr",
     "output_type": "stream",
     "text": [
      "\n"
     ]
    },
    {
     "name": "stdout",
     "output_type": "stream",
     "text": [
      "\n",
      "      Epoch    GPU_mem   box_loss   cls_loss   dfl_loss  Instances       Size\n"
     ]
    },
    {
     "name": "stderr",
     "output_type": "stream",
     "text": [
      "     66/100         0G      0.781      1.171      0.998         21        640: 100%|██████████| 4/4 [00:57<00:00, 14.42s/it]\n",
      "                 Class     Images  Instances      Box(P          R      mAP50  mAP50-95): 100%|██████████| 2/2 [00:17<00:00,  8.95s/it]"
     ]
    },
    {
     "name": "stdout",
     "output_type": "stream",
     "text": [
      "                   all         36         35      0.947      0.833      0.909      0.793\n"
     ]
    },
    {
     "name": "stderr",
     "output_type": "stream",
     "text": [
      "\n"
     ]
    },
    {
     "name": "stdout",
     "output_type": "stream",
     "text": [
      "\n",
      "      Epoch    GPU_mem   box_loss   cls_loss   dfl_loss  Instances       Size\n"
     ]
    },
    {
     "name": "stderr",
     "output_type": "stream",
     "text": [
      "     67/100         0G     0.8338      1.339      1.066         22        640: 100%|██████████| 4/4 [00:56<00:00, 14.05s/it]\n",
      "                 Class     Images  Instances      Box(P          R      mAP50  mAP50-95): 100%|██████████| 2/2 [00:17<00:00,  8.66s/it]"
     ]
    },
    {
     "name": "stdout",
     "output_type": "stream",
     "text": [
      "                   all         36         35      0.921       0.97      0.992      0.874\n"
     ]
    },
    {
     "name": "stderr",
     "output_type": "stream",
     "text": [
      "\n"
     ]
    },
    {
     "name": "stdout",
     "output_type": "stream",
     "text": [
      "\n",
      "      Epoch    GPU_mem   box_loss   cls_loss   dfl_loss  Instances       Size\n"
     ]
    },
    {
     "name": "stderr",
     "output_type": "stream",
     "text": [
      "     68/100         0G     0.7478      1.182     0.9893         27        640: 100%|██████████| 4/4 [00:54<00:00, 13.63s/it]\n",
      "                 Class     Images  Instances      Box(P          R      mAP50  mAP50-95): 100%|██████████| 2/2 [00:17<00:00,  8.53s/it]"
     ]
    },
    {
     "name": "stdout",
     "output_type": "stream",
     "text": [
      "                   all         36         35       0.92      0.968      0.992      0.868\n"
     ]
    },
    {
     "name": "stderr",
     "output_type": "stream",
     "text": [
      "\n"
     ]
    },
    {
     "name": "stdout",
     "output_type": "stream",
     "text": [
      "\n",
      "      Epoch    GPU_mem   box_loss   cls_loss   dfl_loss  Instances       Size\n"
     ]
    },
    {
     "name": "stderr",
     "output_type": "stream",
     "text": [
      "     69/100         0G     0.7697      1.144     0.9914         22        640: 100%|██████████| 4/4 [00:54<00:00, 13.68s/it]\n",
      "                 Class     Images  Instances      Box(P          R      mAP50  mAP50-95): 100%|██████████| 2/2 [00:17<00:00,  8.64s/it]"
     ]
    },
    {
     "name": "stdout",
     "output_type": "stream",
     "text": [
      "                   all         36         35      0.913      0.968      0.992      0.856\n"
     ]
    },
    {
     "name": "stderr",
     "output_type": "stream",
     "text": [
      "\n"
     ]
    },
    {
     "name": "stdout",
     "output_type": "stream",
     "text": [
      "\n",
      "      Epoch    GPU_mem   box_loss   cls_loss   dfl_loss  Instances       Size\n"
     ]
    },
    {
     "name": "stderr",
     "output_type": "stream",
     "text": [
      "     70/100         0G     0.7943      1.217      1.056         17        640: 100%|██████████| 4/4 [00:55<00:00, 13.76s/it]\n",
      "                 Class     Images  Instances      Box(P          R      mAP50  mAP50-95): 100%|██████████| 2/2 [00:17<00:00,  8.81s/it]"
     ]
    },
    {
     "name": "stdout",
     "output_type": "stream",
     "text": [
      "                   all         36         35      0.941      0.833      0.935      0.797\n"
     ]
    },
    {
     "name": "stderr",
     "output_type": "stream",
     "text": [
      "\n"
     ]
    },
    {
     "name": "stdout",
     "output_type": "stream",
     "text": [
      "\n",
      "      Epoch    GPU_mem   box_loss   cls_loss   dfl_loss  Instances       Size\n"
     ]
    },
    {
     "name": "stderr",
     "output_type": "stream",
     "text": [
      "     71/100         0G     0.7497      1.032      1.015         24        640: 100%|██████████| 4/4 [01:01<00:00, 15.42s/it]\n",
      "                 Class     Images  Instances      Box(P          R      mAP50  mAP50-95): 100%|██████████| 2/2 [00:17<00:00,  8.84s/it]"
     ]
    },
    {
     "name": "stdout",
     "output_type": "stream",
     "text": [
      "                   all         36         35      0.932      0.833      0.908      0.776\n"
     ]
    },
    {
     "name": "stderr",
     "output_type": "stream",
     "text": [
      "\n"
     ]
    },
    {
     "name": "stdout",
     "output_type": "stream",
     "text": [
      "\n",
      "      Epoch    GPU_mem   box_loss   cls_loss   dfl_loss  Instances       Size\n"
     ]
    },
    {
     "name": "stderr",
     "output_type": "stream",
     "text": [
      "     72/100         0G     0.6744      1.164     0.9889         19        640: 100%|██████████| 4/4 [00:54<00:00, 13.63s/it]\n",
      "                 Class     Images  Instances      Box(P          R      mAP50  mAP50-95): 100%|██████████| 2/2 [00:16<00:00,  8.45s/it]"
     ]
    },
    {
     "name": "stdout",
     "output_type": "stream",
     "text": [
      "                   all         36         35       0.93      0.833      0.878      0.744\n"
     ]
    },
    {
     "name": "stderr",
     "output_type": "stream",
     "text": [
      "\n"
     ]
    },
    {
     "name": "stdout",
     "output_type": "stream",
     "text": [
      "\n",
      "      Epoch    GPU_mem   box_loss   cls_loss   dfl_loss  Instances       Size\n"
     ]
    },
    {
     "name": "stderr",
     "output_type": "stream",
     "text": [
      "     73/100         0G     0.7198      1.102     0.9842         13        640: 100%|██████████| 4/4 [00:54<00:00, 13.63s/it]\n",
      "                 Class     Images  Instances      Box(P          R      mAP50  mAP50-95): 100%|██████████| 2/2 [00:16<00:00,  8.44s/it]"
     ]
    },
    {
     "name": "stdout",
     "output_type": "stream",
     "text": [
      "                   all         36         35       0.93      0.833      0.902      0.782\n"
     ]
    },
    {
     "name": "stderr",
     "output_type": "stream",
     "text": [
      "\n"
     ]
    },
    {
     "name": "stdout",
     "output_type": "stream",
     "text": [
      "\n",
      "      Epoch    GPU_mem   box_loss   cls_loss   dfl_loss  Instances       Size\n"
     ]
    },
    {
     "name": "stderr",
     "output_type": "stream",
     "text": [
      "     74/100         0G     0.6921      1.102     0.9888         20        640: 100%|██████████| 4/4 [01:06<00:00, 16.55s/it]\n",
      "                 Class     Images  Instances      Box(P          R      mAP50  mAP50-95): 100%|██████████| 2/2 [00:17<00:00,  8.52s/it]"
     ]
    },
    {
     "name": "stdout",
     "output_type": "stream",
     "text": [
      "                   all         36         35      0.935      0.833      0.884      0.774\n"
     ]
    },
    {
     "name": "stderr",
     "output_type": "stream",
     "text": [
      "\n"
     ]
    },
    {
     "name": "stdout",
     "output_type": "stream",
     "text": [
      "\n",
      "      Epoch    GPU_mem   box_loss   cls_loss   dfl_loss  Instances       Size\n"
     ]
    },
    {
     "name": "stderr",
     "output_type": "stream",
     "text": [
      "     75/100         0G     0.6807     0.9892     0.9662         23        640: 100%|██████████| 4/4 [00:56<00:00, 14.23s/it]\n",
      "                 Class     Images  Instances      Box(P          R      mAP50  mAP50-95): 100%|██████████| 2/2 [00:17<00:00,  8.84s/it]"
     ]
    },
    {
     "name": "stdout",
     "output_type": "stream",
     "text": [
      "                   all         36         35      0.944      0.833      0.884      0.772\n"
     ]
    },
    {
     "name": "stderr",
     "output_type": "stream",
     "text": [
      "\n"
     ]
    },
    {
     "name": "stdout",
     "output_type": "stream",
     "text": [
      "\n",
      "      Epoch    GPU_mem   box_loss   cls_loss   dfl_loss  Instances       Size\n"
     ]
    },
    {
     "name": "stderr",
     "output_type": "stream",
     "text": [
      "     76/100         0G     0.6535      1.051     0.9987         15        640: 100%|██████████| 4/4 [00:56<00:00, 14.22s/it]\n",
      "                 Class     Images  Instances      Box(P          R      mAP50  mAP50-95): 100%|██████████| 2/2 [00:17<00:00,  8.87s/it]"
     ]
    },
    {
     "name": "stdout",
     "output_type": "stream",
     "text": [
      "                   all         36         35      0.946      0.833      0.887      0.793\n"
     ]
    },
    {
     "name": "stderr",
     "output_type": "stream",
     "text": [
      "\n"
     ]
    },
    {
     "name": "stdout",
     "output_type": "stream",
     "text": [
      "\n",
      "      Epoch    GPU_mem   box_loss   cls_loss   dfl_loss  Instances       Size\n"
     ]
    },
    {
     "name": "stderr",
     "output_type": "stream",
     "text": [
      "  0%|          | 0/4 [00:00<?, ?it/s]"
     ]
    }
   ],
   "source": [
    "from ultralytics import YOLO\n",
    "\n",
    "# Load a model\n",
    "model = YOLO('yolov8n.yaml')  # build a new model from scratch\n",
    "# 下载模型\n",
    "model = YOLO('yolov8n.pt')  # load a pretrained model (recommended for training)\n",
    "# Use the model\n",
    "# !yolo task=detect mode=train model=yolov8.yaml data=./datasets/mydata.yaml epochs=200 batch=16 device='cpu'\n",
    "results = model.train(data='./3d_printer.yaml', epochs=100)  # train the model\n",
    "# results = model.val()  # evaluate model performance on the validation set\n",
    "# predict\n",
    "# results = model('https://ultralytics.com/images/bus.jpg')  # predict on an image\n"
   ]
  },
  {
   "cell_type": "code",
   "execution_count": 39,
   "metadata": {},
   "outputs": [],
   "source": [
    "# model.val()"
   ]
  },
  {
   "cell_type": "code",
   "execution_count": 35,
   "metadata": {},
   "outputs": [
    {
     "name": "stdout",
     "output_type": "stream",
     "text": [
      "\n",
      "image 1/60 /Users/max/Documents/06_john_doc/3d_p/3DAnomalyDetect/data/frames/spaghetti1/frame_0000.jpg: 640x640 (no detections), 212.5ms\n",
      "image 2/60 /Users/max/Documents/06_john_doc/3d_p/3DAnomalyDetect/data/frames/spaghetti1/frame_0005.jpg: 640x640 (no detections), 191.4ms\n",
      "image 3/60 /Users/max/Documents/06_john_doc/3d_p/3DAnomalyDetect/data/frames/spaghetti1/frame_0010.jpg: 640x640 (no detections), 188.7ms\n",
      "image 4/60 /Users/max/Documents/06_john_doc/3d_p/3DAnomalyDetect/data/frames/spaghetti1/frame_0015.jpg: 640x640 (no detections), 178.5ms\n",
      "image 5/60 /Users/max/Documents/06_john_doc/3d_p/3DAnomalyDetect/data/frames/spaghetti1/frame_0020.jpg: 640x640 (no detections), 182.4ms\n",
      "image 6/60 /Users/max/Documents/06_john_doc/3d_p/3DAnomalyDetect/data/frames/spaghetti1/frame_0025.jpg: 640x640 (no detections), 180.4ms\n",
      "image 7/60 /Users/max/Documents/06_john_doc/3d_p/3DAnomalyDetect/data/frames/spaghetti1/frame_0030.jpg: 640x640 (no detections), 190.5ms\n",
      "image 8/60 /Users/max/Documents/06_john_doc/3d_p/3DAnomalyDetect/data/frames/spaghetti1/frame_0035.jpg: 640x640 (no detections), 183.4ms\n",
      "image 9/60 /Users/max/Documents/06_john_doc/3d_p/3DAnomalyDetect/data/frames/spaghetti1/frame_0040.jpg: 640x640 (no detections), 177.6ms\n",
      "image 10/60 /Users/max/Documents/06_john_doc/3d_p/3DAnomalyDetect/data/frames/spaghetti1/frame_0045.jpg: 640x640 (no detections), 185.6ms\n",
      "image 11/60 /Users/max/Documents/06_john_doc/3d_p/3DAnomalyDetect/data/frames/spaghetti1/frame_0050.jpg: 640x640 (no detections), 185.4ms\n",
      "image 12/60 /Users/max/Documents/06_john_doc/3d_p/3DAnomalyDetect/data/frames/spaghetti1/frame_0055.jpg: 640x640 (no detections), 175.2ms\n",
      "image 13/60 /Users/max/Documents/06_john_doc/3d_p/3DAnomalyDetect/data/frames/spaghetti1/frame_0060.jpg: 640x640 (no detections), 179.2ms\n",
      "image 14/60 /Users/max/Documents/06_john_doc/3d_p/3DAnomalyDetect/data/frames/spaghetti1/frame_0065.jpg: 640x640 (no detections), 182.3ms\n",
      "image 15/60 /Users/max/Documents/06_john_doc/3d_p/3DAnomalyDetect/data/frames/spaghetti1/frame_0070.jpg: 640x640 (no detections), 174.4ms\n",
      "image 16/60 /Users/max/Documents/06_john_doc/3d_p/3DAnomalyDetect/data/frames/spaghetti1/frame_0075.jpg: 640x640 (no detections), 182.1ms\n",
      "image 17/60 /Users/max/Documents/06_john_doc/3d_p/3DAnomalyDetect/data/frames/spaghetti1/frame_0080.jpg: 640x640 (no detections), 176.0ms\n",
      "image 18/60 /Users/max/Documents/06_john_doc/3d_p/3DAnomalyDetect/data/frames/spaghetti1/frame_0085.jpg: 640x640 (no detections), 177.0ms\n",
      "image 19/60 /Users/max/Documents/06_john_doc/3d_p/3DAnomalyDetect/data/frames/spaghetti1/frame_0090.jpg: 640x640 (no detections), 171.5ms\n",
      "image 20/60 /Users/max/Documents/06_john_doc/3d_p/3DAnomalyDetect/data/frames/spaghetti1/frame_0095.jpg: 640x640 (no detections), 182.5ms\n",
      "image 21/60 /Users/max/Documents/06_john_doc/3d_p/3DAnomalyDetect/data/frames/spaghetti1/frame_0100.jpg: 640x640 (no detections), 185.1ms\n",
      "image 22/60 /Users/max/Documents/06_john_doc/3d_p/3DAnomalyDetect/data/frames/spaghetti1/frame_0105.jpg: 640x640 (no detections), 188.4ms\n",
      "image 23/60 /Users/max/Documents/06_john_doc/3d_p/3DAnomalyDetect/data/frames/spaghetti1/frame_0110.jpg: 640x640 (no detections), 182.0ms\n",
      "image 24/60 /Users/max/Documents/06_john_doc/3d_p/3DAnomalyDetect/data/frames/spaghetti1/frame_0115.jpg: 640x640 (no detections), 182.6ms\n",
      "image 25/60 /Users/max/Documents/06_john_doc/3d_p/3DAnomalyDetect/data/frames/spaghetti1/frame_0120.jpg: 640x640 (no detections), 182.4ms\n",
      "image 26/60 /Users/max/Documents/06_john_doc/3d_p/3DAnomalyDetect/data/frames/spaghetti1/frame_0125.jpg: 640x640 (no detections), 183.8ms\n",
      "image 27/60 /Users/max/Documents/06_john_doc/3d_p/3DAnomalyDetect/data/frames/spaghetti1/frame_0130.jpg: 640x640 (no detections), 193.6ms\n",
      "image 28/60 /Users/max/Documents/06_john_doc/3d_p/3DAnomalyDetect/data/frames/spaghetti1/frame_0135.jpg: 640x640 (no detections), 192.3ms\n",
      "image 29/60 /Users/max/Documents/06_john_doc/3d_p/3DAnomalyDetect/data/frames/spaghetti1/frame_0140.jpg: 640x640 (no detections), 192.2ms\n",
      "image 30/60 /Users/max/Documents/06_john_doc/3d_p/3DAnomalyDetect/data/frames/spaghetti1/frame_0145.jpg: 640x640 (no detections), 181.1ms\n",
      "image 31/60 /Users/max/Documents/06_john_doc/3d_p/3DAnomalyDetect/data/frames/spaghetti1/frame_0150.jpg: 640x640 (no detections), 174.9ms\n",
      "image 32/60 /Users/max/Documents/06_john_doc/3d_p/3DAnomalyDetect/data/frames/spaghetti1/frame_0155.jpg: 640x640 (no detections), 187.1ms\n",
      "image 33/60 /Users/max/Documents/06_john_doc/3d_p/3DAnomalyDetect/data/frames/spaghetti1/frame_0160.jpg: 640x640 (no detections), 184.3ms\n",
      "image 34/60 /Users/max/Documents/06_john_doc/3d_p/3DAnomalyDetect/data/frames/spaghetti1/frame_0165.jpg: 640x640 (no detections), 179.7ms\n",
      "image 35/60 /Users/max/Documents/06_john_doc/3d_p/3DAnomalyDetect/data/frames/spaghetti1/frame_0170.jpg: 640x640 (no detections), 182.4ms\n",
      "image 36/60 /Users/max/Documents/06_john_doc/3d_p/3DAnomalyDetect/data/frames/spaghetti1/frame_0175.jpg: 640x640 (no detections), 175.5ms\n",
      "image 37/60 /Users/max/Documents/06_john_doc/3d_p/3DAnomalyDetect/data/frames/spaghetti1/frame_0180.jpg: 640x640 (no detections), 178.4ms\n",
      "image 38/60 /Users/max/Documents/06_john_doc/3d_p/3DAnomalyDetect/data/frames/spaghetti1/frame_0185.jpg: 640x640 (no detections), 177.9ms\n",
      "image 39/60 /Users/max/Documents/06_john_doc/3d_p/3DAnomalyDetect/data/frames/spaghetti1/frame_0190.jpg: 640x640 (no detections), 179.5ms\n",
      "image 40/60 /Users/max/Documents/06_john_doc/3d_p/3DAnomalyDetect/data/frames/spaghetti1/frame_0195.jpg: 640x640 (no detections), 194.6ms\n",
      "image 41/60 /Users/max/Documents/06_john_doc/3d_p/3DAnomalyDetect/data/frames/spaghetti1/frame_0200.jpg: 640x640 (no detections), 181.4ms\n",
      "image 42/60 /Users/max/Documents/06_john_doc/3d_p/3DAnomalyDetect/data/frames/spaghetti1/frame_0205.jpg: 640x640 (no detections), 183.1ms\n",
      "image 43/60 /Users/max/Documents/06_john_doc/3d_p/3DAnomalyDetect/data/frames/spaghetti1/frame_0210.jpg: 640x640 (no detections), 184.9ms\n",
      "image 44/60 /Users/max/Documents/06_john_doc/3d_p/3DAnomalyDetect/data/frames/spaghetti1/frame_0215.jpg: 640x640 (no detections), 180.9ms\n",
      "image 45/60 /Users/max/Documents/06_john_doc/3d_p/3DAnomalyDetect/data/frames/spaghetti1/frame_0220.jpg: 640x640 (no detections), 178.6ms\n",
      "image 46/60 /Users/max/Documents/06_john_doc/3d_p/3DAnomalyDetect/data/frames/spaghetti1/frame_0225.jpg: 640x640 (no detections), 185.4ms\n",
      "image 47/60 /Users/max/Documents/06_john_doc/3d_p/3DAnomalyDetect/data/frames/spaghetti1/frame_0230.jpg: 640x640 (no detections), 174.7ms\n",
      "image 48/60 /Users/max/Documents/06_john_doc/3d_p/3DAnomalyDetect/data/frames/spaghetti1/frame_0235.jpg: 640x640 (no detections), 173.2ms\n",
      "image 49/60 /Users/max/Documents/06_john_doc/3d_p/3DAnomalyDetect/data/frames/spaghetti1/frame_0240.jpg: 640x640 (no detections), 197.3ms\n",
      "image 50/60 /Users/max/Documents/06_john_doc/3d_p/3DAnomalyDetect/data/frames/spaghetti1/frame_0245.jpg: 640x640 (no detections), 175.2ms\n",
      "image 51/60 /Users/max/Documents/06_john_doc/3d_p/3DAnomalyDetect/data/frames/spaghetti1/frame_0250.jpg: 640x640 (no detections), 182.0ms\n",
      "image 52/60 /Users/max/Documents/06_john_doc/3d_p/3DAnomalyDetect/data/frames/spaghetti1/frame_0255.jpg: 640x640 (no detections), 177.5ms\n",
      "image 53/60 /Users/max/Documents/06_john_doc/3d_p/3DAnomalyDetect/data/frames/spaghetti1/frame_0260.jpg: 640x640 (no detections), 177.4ms\n",
      "image 54/60 /Users/max/Documents/06_john_doc/3d_p/3DAnomalyDetect/data/frames/spaghetti1/frame_0265.jpg: 640x640 (no detections), 179.6ms\n",
      "image 55/60 /Users/max/Documents/06_john_doc/3d_p/3DAnomalyDetect/data/frames/spaghetti1/frame_0270.jpg: 640x640 (no detections), 178.4ms\n",
      "image 56/60 /Users/max/Documents/06_john_doc/3d_p/3DAnomalyDetect/data/frames/spaghetti1/frame_0275.jpg: 640x640 (no detections), 176.4ms\n",
      "image 57/60 /Users/max/Documents/06_john_doc/3d_p/3DAnomalyDetect/data/frames/spaghetti1/frame_0280.jpg: 640x640 (no detections), 178.6ms\n",
      "image 58/60 /Users/max/Documents/06_john_doc/3d_p/3DAnomalyDetect/data/frames/spaghetti1/frame_0285.jpg: 640x640 (no detections), 179.4ms\n",
      "image 59/60 /Users/max/Documents/06_john_doc/3d_p/3DAnomalyDetect/data/frames/spaghetti1/frame_0290.jpg: 640x640 1 spaghetti, 172.2ms\n",
      "image 60/60 /Users/max/Documents/06_john_doc/3d_p/3DAnomalyDetect/data/frames/spaghetti1/frame_0295.jpg: 640x640 (no detections), 171.2ms\n",
      "Speed: 2.8ms preprocess, 182.0ms inference, 0.3ms postprocess per image at shape (1, 3, 640, 640)\n"
     ]
    }
   ],
   "source": [
    "results = model('/Users/max/Documents/06_john_doc/3d_p/3DAnomalyDetect/data/frames/spaghetti1/')"
   ]
  },
  {
   "cell_type": "code",
   "execution_count": 36,
   "metadata": {},
   "outputs": [],
   "source": [
    "%matplotlib inline"
   ]
  },
  {
   "cell_type": "code",
   "execution_count": 38,
   "metadata": {},
   "outputs": [],
   "source": [
    "for result in results[1:2]:\n",
    "    boxes = result.boxes  # Boxes object for bounding box outputs\n",
    "    masks = result.masks  # Masks object for segmentation masks outputs\n",
    "    keypoints = result.keypoints  # Keypoints object for pose outputs\n",
    "    probs = result.probs  # Probs object for classification outputs\n",
    "    obb = result.obb  # Oriented boxes object for OBB outputs\n",
    "    result.show()  # display to screen\n",
    "    #result.save(filename=\"result.jpg\")  # save to disk"
   ]
  },
  {
   "cell_type": "code",
   "execution_count": 32,
   "metadata": {},
   "outputs": [
    {
     "ename": "AttributeError",
     "evalue": "'list' object has no attribute 'summary'",
     "output_type": "error",
     "traceback": [
      "\u001b[0;31m---------------------------------------------------------------------------\u001b[0m",
      "\u001b[0;31mAttributeError\u001b[0m                            Traceback (most recent call last)",
      "\u001b[1;32m/Users/max/Documents/06_john_doc/3d_p/3DAnomalyDetect/exp/0531_test_model2.ipynb Cell 11\u001b[0m line \u001b[0;36m1\n\u001b[0;32m----> <a href='vscode-notebook-cell:/Users/max/Documents/06_john_doc/3d_p/3DAnomalyDetect/exp/0531_test_model2.ipynb#X10sZmlsZQ%3D%3D?line=0'>1</a>\u001b[0m results\u001b[39m.\u001b[39;49msummary()\n",
      "\u001b[0;31mAttributeError\u001b[0m: 'list' object has no attribute 'summary'"
     ]
    }
   ],
   "source": []
  },
  {
   "cell_type": "code",
   "execution_count": null,
   "metadata": {},
   "outputs": [],
   "source": []
  }
 ],
 "metadata": {
  "kernelspec": {
   "display_name": "3d_printer",
   "language": "python",
   "name": "python3"
  },
  "language_info": {
   "codemirror_mode": {
    "name": "ipython",
    "version": 3
   },
   "file_extension": ".py",
   "mimetype": "text/x-python",
   "name": "python",
   "nbconvert_exporter": "python",
   "pygments_lexer": "ipython3",
   "version": "3.9.19"
  },
  "orig_nbformat": 4
 },
 "nbformat": 4,
 "nbformat_minor": 2
}
